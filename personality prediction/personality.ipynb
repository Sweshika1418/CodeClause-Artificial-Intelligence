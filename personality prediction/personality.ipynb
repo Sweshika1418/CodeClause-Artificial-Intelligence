{
 "cells": [
  {
   "cell_type": "markdown",
   "metadata": {},
   "source": [
    "PERSONALITY PREDICTION SYSTEM VIA CV ANALYSIS"
   ]
  },
  {
   "cell_type": "markdown",
   "metadata": {},
   "source": [
    "Importing the dependencies"
   ]
  },
  {
   "cell_type": "code",
   "execution_count": 2,
   "metadata": {},
   "outputs": [],
   "source": [
    "import pandas as pd\n",
    "import numpy as np\n",
    "import re\n",
    "import seaborn as sns\n",
    "import matplotlib.pyplot as plt\n",
    "%matplotlib inline"
   ]
  },
  {
   "cell_type": "markdown",
   "metadata": {},
   "source": [
    "LOADING THE DATA"
   ]
  },
  {
   "cell_type": "code",
   "execution_count": 3,
   "metadata": {},
   "outputs": [],
   "source": [
    "Personality = pd.read_csv(\"mbti_1.csv\")"
   ]
  },
  {
   "cell_type": "code",
   "execution_count": 4,
   "metadata": {},
   "outputs": [
    {
     "data": {
      "text/html": [
       "<div>\n",
       "<style scoped>\n",
       "    .dataframe tbody tr th:only-of-type {\n",
       "        vertical-align: middle;\n",
       "    }\n",
       "\n",
       "    .dataframe tbody tr th {\n",
       "        vertical-align: top;\n",
       "    }\n",
       "\n",
       "    .dataframe thead th {\n",
       "        text-align: right;\n",
       "    }\n",
       "</style>\n",
       "<table border=\"1\" class=\"dataframe\">\n",
       "  <thead>\n",
       "    <tr style=\"text-align: right;\">\n",
       "      <th></th>\n",
       "      <th>type</th>\n",
       "      <th>posts</th>\n",
       "    </tr>\n",
       "  </thead>\n",
       "  <tbody>\n",
       "    <tr>\n",
       "      <th>0</th>\n",
       "      <td>INFJ</td>\n",
       "      <td>'http://www.youtube.com/watch?v=qsXHcwe3krw|||...</td>\n",
       "    </tr>\n",
       "    <tr>\n",
       "      <th>1</th>\n",
       "      <td>ENTP</td>\n",
       "      <td>'I'm finding the lack of me in these posts ver...</td>\n",
       "    </tr>\n",
       "    <tr>\n",
       "      <th>2</th>\n",
       "      <td>INTP</td>\n",
       "      <td>'Good one  _____   https://www.youtube.com/wat...</td>\n",
       "    </tr>\n",
       "    <tr>\n",
       "      <th>3</th>\n",
       "      <td>INTJ</td>\n",
       "      <td>'Dear INTP,   I enjoyed our conversation the o...</td>\n",
       "    </tr>\n",
       "    <tr>\n",
       "      <th>4</th>\n",
       "      <td>ENTJ</td>\n",
       "      <td>'You're fired.|||That's another silly misconce...</td>\n",
       "    </tr>\n",
       "    <tr>\n",
       "      <th>...</th>\n",
       "      <td>...</td>\n",
       "      <td>...</td>\n",
       "    </tr>\n",
       "    <tr>\n",
       "      <th>8670</th>\n",
       "      <td>ISFP</td>\n",
       "      <td>'https://www.youtube.com/watch?v=t8edHB_h908||...</td>\n",
       "    </tr>\n",
       "    <tr>\n",
       "      <th>8671</th>\n",
       "      <td>ENFP</td>\n",
       "      <td>'So...if this thread already exists someplace ...</td>\n",
       "    </tr>\n",
       "    <tr>\n",
       "      <th>8672</th>\n",
       "      <td>INTP</td>\n",
       "      <td>'So many questions when i do these things.  I ...</td>\n",
       "    </tr>\n",
       "    <tr>\n",
       "      <th>8673</th>\n",
       "      <td>INFP</td>\n",
       "      <td>'I am very conflicted right now when it comes ...</td>\n",
       "    </tr>\n",
       "    <tr>\n",
       "      <th>8674</th>\n",
       "      <td>INFP</td>\n",
       "      <td>'It has been too long since I have been on per...</td>\n",
       "    </tr>\n",
       "  </tbody>\n",
       "</table>\n",
       "<p>8675 rows × 2 columns</p>\n",
       "</div>"
      ],
      "text/plain": [
       "      type                                              posts\n",
       "0     INFJ  'http://www.youtube.com/watch?v=qsXHcwe3krw|||...\n",
       "1     ENTP  'I'm finding the lack of me in these posts ver...\n",
       "2     INTP  'Good one  _____   https://www.youtube.com/wat...\n",
       "3     INTJ  'Dear INTP,   I enjoyed our conversation the o...\n",
       "4     ENTJ  'You're fired.|||That's another silly misconce...\n",
       "...    ...                                                ...\n",
       "8670  ISFP  'https://www.youtube.com/watch?v=t8edHB_h908||...\n",
       "8671  ENFP  'So...if this thread already exists someplace ...\n",
       "8672  INTP  'So many questions when i do these things.  I ...\n",
       "8673  INFP  'I am very conflicted right now when it comes ...\n",
       "8674  INFP  'It has been too long since I have been on per...\n",
       "\n",
       "[8675 rows x 2 columns]"
      ]
     },
     "execution_count": 4,
     "metadata": {},
     "output_type": "execute_result"
    }
   ],
   "source": [
    "Personality"
   ]
  },
  {
   "cell_type": "code",
   "execution_count": 5,
   "metadata": {},
   "outputs": [
    {
     "data": {
      "text/html": [
       "<div>\n",
       "<style scoped>\n",
       "    .dataframe tbody tr th:only-of-type {\n",
       "        vertical-align: middle;\n",
       "    }\n",
       "\n",
       "    .dataframe tbody tr th {\n",
       "        vertical-align: top;\n",
       "    }\n",
       "\n",
       "    .dataframe thead th {\n",
       "        text-align: right;\n",
       "    }\n",
       "</style>\n",
       "<table border=\"1\" class=\"dataframe\">\n",
       "  <thead>\n",
       "    <tr style=\"text-align: right;\">\n",
       "      <th></th>\n",
       "      <th>type</th>\n",
       "      <th>posts</th>\n",
       "    </tr>\n",
       "  </thead>\n",
       "  <tbody>\n",
       "    <tr>\n",
       "      <th>0</th>\n",
       "      <td>INFJ</td>\n",
       "      <td>'http://www.youtube.com/watch?v=qsXHcwe3krw|||...</td>\n",
       "    </tr>\n",
       "    <tr>\n",
       "      <th>1</th>\n",
       "      <td>ENTP</td>\n",
       "      <td>'I'm finding the lack of me in these posts ver...</td>\n",
       "    </tr>\n",
       "    <tr>\n",
       "      <th>2</th>\n",
       "      <td>INTP</td>\n",
       "      <td>'Good one  _____   https://www.youtube.com/wat...</td>\n",
       "    </tr>\n",
       "    <tr>\n",
       "      <th>3</th>\n",
       "      <td>INTJ</td>\n",
       "      <td>'Dear INTP,   I enjoyed our conversation the o...</td>\n",
       "    </tr>\n",
       "    <tr>\n",
       "      <th>4</th>\n",
       "      <td>ENTJ</td>\n",
       "      <td>'You're fired.|||That's another silly misconce...</td>\n",
       "    </tr>\n",
       "  </tbody>\n",
       "</table>\n",
       "</div>"
      ],
      "text/plain": [
       "   type                                              posts\n",
       "0  INFJ  'http://www.youtube.com/watch?v=qsXHcwe3krw|||...\n",
       "1  ENTP  'I'm finding the lack of me in these posts ver...\n",
       "2  INTP  'Good one  _____   https://www.youtube.com/wat...\n",
       "3  INTJ  'Dear INTP,   I enjoyed our conversation the o...\n",
       "4  ENTJ  'You're fired.|||That's another silly misconce..."
      ]
     },
     "execution_count": 5,
     "metadata": {},
     "output_type": "execute_result"
    }
   ],
   "source": [
    "#Displaying the first five rows of the dataframe\n",
    "Personality.head()"
   ]
  },
  {
   "cell_type": "code",
   "execution_count": 6,
   "metadata": {},
   "outputs": [
    {
     "data": {
      "text/html": [
       "<div>\n",
       "<style scoped>\n",
       "    .dataframe tbody tr th:only-of-type {\n",
       "        vertical-align: middle;\n",
       "    }\n",
       "\n",
       "    .dataframe tbody tr th {\n",
       "        vertical-align: top;\n",
       "    }\n",
       "\n",
       "    .dataframe thead th {\n",
       "        text-align: right;\n",
       "    }\n",
       "</style>\n",
       "<table border=\"1\" class=\"dataframe\">\n",
       "  <thead>\n",
       "    <tr style=\"text-align: right;\">\n",
       "      <th></th>\n",
       "      <th>type</th>\n",
       "      <th>posts</th>\n",
       "    </tr>\n",
       "  </thead>\n",
       "  <tbody>\n",
       "    <tr>\n",
       "      <th>8670</th>\n",
       "      <td>ISFP</td>\n",
       "      <td>'https://www.youtube.com/watch?v=t8edHB_h908||...</td>\n",
       "    </tr>\n",
       "    <tr>\n",
       "      <th>8671</th>\n",
       "      <td>ENFP</td>\n",
       "      <td>'So...if this thread already exists someplace ...</td>\n",
       "    </tr>\n",
       "    <tr>\n",
       "      <th>8672</th>\n",
       "      <td>INTP</td>\n",
       "      <td>'So many questions when i do these things.  I ...</td>\n",
       "    </tr>\n",
       "    <tr>\n",
       "      <th>8673</th>\n",
       "      <td>INFP</td>\n",
       "      <td>'I am very conflicted right now when it comes ...</td>\n",
       "    </tr>\n",
       "    <tr>\n",
       "      <th>8674</th>\n",
       "      <td>INFP</td>\n",
       "      <td>'It has been too long since I have been on per...</td>\n",
       "    </tr>\n",
       "  </tbody>\n",
       "</table>\n",
       "</div>"
      ],
      "text/plain": [
       "      type                                              posts\n",
       "8670  ISFP  'https://www.youtube.com/watch?v=t8edHB_h908||...\n",
       "8671  ENFP  'So...if this thread already exists someplace ...\n",
       "8672  INTP  'So many questions when i do these things.  I ...\n",
       "8673  INFP  'I am very conflicted right now when it comes ...\n",
       "8674  INFP  'It has been too long since I have been on per..."
      ]
     },
     "execution_count": 6,
     "metadata": {},
     "output_type": "execute_result"
    }
   ],
   "source": [
    "#Displaying the last five rows of the dataframe\n",
    "Personality.tail()"
   ]
  },
  {
   "cell_type": "markdown",
   "metadata": {},
   "source": [
    "LISTS OF POSTS"
   ]
  },
  {
   "cell_type": "code",
   "execution_count": 7,
   "metadata": {},
   "outputs": [
    {
     "data": {
      "text/plain": [
       "[[\"'http://www.youtube.com/watch?v=qsXHcwe3krw\",\n",
       "  'http://41.media.tumblr.com/tumblr_lfouy03PMA1qa1rooo1_500.jpg',\n",
       "  'enfp and intj moments  https://www.youtube.com/watch?v=iz7lE1g4XM4  sportscenter not top ten plays  https://www.youtube.com/watch?v=uCdfze1etec  pranks',\n",
       "  'What has been the most life-changing experience in your life?',\n",
       "  'http://www.youtube.com/watch?v=vXZeYwwRDw8   http://www.youtube.com/watch?v=u8ejam5DP3E  On repeat for most of today.',\n",
       "  'May the PerC Experience immerse you.',\n",
       "  'The last thing my INFJ friend posted on his facebook before committing suicide the next day. Rest in peace~   http://vimeo.com/22842206',\n",
       "  \"Hello ENFJ7. Sorry to hear of your distress. It's only natural for a relationship to not be perfection all the time in every moment of existence. Try to figure the hard times as times of growth, as...\",\n",
       "  '84389  84390  http://wallpaperpassion.com/upload/23700/friendship-boy-and-girl-wallpaper.jpg  http://assets.dornob.com/wp-content/uploads/2010/04/round-home-design.jpg ...',\n",
       "  'Welcome and stuff.',\n",
       "  'http://playeressence.com/wp-content/uploads/2013/08/RED-red-the-pokemon-master-32560474-450-338.jpg  Game. Set. Match.',\n",
       "  \"Prozac, wellbrutin, at least thirty minutes of moving your legs (and I don't mean moving them while sitting in your same desk chair), weed in moderation (maybe try edibles as a healthier alternative...\",\n",
       "  \"Basically come up with three items you've determined that each type (or whichever types you want to do) would more than likely use, given each types' cognitive functions and whatnot, when left by...\",\n",
       "  'All things in moderation.  Sims is indeed a video game, and a good one at that. Note: a good one at that is somewhat subjective in that I am not completely promoting the death of any given Sim...',\n",
       "  'Dear ENFP:  What were your favorite video games growing up and what are your now, current favorite video games? :cool:',\n",
       "  'https://www.youtube.com/watch?v=QyPqT8umzmY',\n",
       "  'It appears to be too late. :sad:',\n",
       "  \"There's someone out there for everyone.\",\n",
       "  'Wait... I thought confidence was a good thing.',\n",
       "  \"I just cherish the time of solitude b/c i revel within my inner world more whereas most other time i'd be workin... just enjoy the me time while you can. Don't worry, people will always be around to...\",\n",
       "  \"Yo entp ladies... if you're into a complimentary personality,well, hey.\",\n",
       "  '... when your main social outlet is xbox live conversations and even then you verbally fatigue quickly.',\n",
       "  'http://www.youtube.com/watch?v=gDhy7rdfm14  I really dig the part from 1:46 to 2:50',\n",
       "  'http://www.youtube.com/watch?v=msqXffgh7b8',\n",
       "  'Banned because this thread requires it of me.',\n",
       "  'Get high in backyard, roast and eat marshmellows in backyard while conversing over something intellectual, followed by massages and kisses.',\n",
       "  'http://www.youtube.com/watch?v=Mw7eoU3BMbE',\n",
       "  'http://www.youtube.com/watch?v=4V2uYORhQOk',\n",
       "  'http://www.youtube.com/watch?v=SlVmgFQQ0TI',\n",
       "  \"Banned for too many b's in that sentence. How could you! Think of the B!\",\n",
       "  'Banned for watching movies in the corner with the dunces.',\n",
       "  'Banned because Health class clearly taught you nothing about peer pressure.',\n",
       "  'Banned for a whole host of reasons!',\n",
       "  'http://www.youtube.com/watch?v=IRcrv41hgz4',\n",
       "  \"1) Two baby deer on left and right munching on a beetle in the middle.  2) Using their own blood, two cavemen diary today's latest happenings on their designated cave diary wall.  3) I see it as...\",\n",
       "  'a pokemon world  an infj society  everyone becomes an optimist',\n",
       "  '49142',\n",
       "  'http://www.youtube.com/watch?v=ZRCEq_JFeFM',\n",
       "  'http://discovermagazine.com/2012/jul-aug/20-things-you-didnt-know-about-deserts/desert.jpg',\n",
       "  'http://oyster.ignimgs.com/mediawiki/apis.ign.com/pokemon-silver-version/d/dd/Ditto.gif',\n",
       "  'http://www.serebii.net/potw-dp/Scizor.jpg',\n",
       "  \"Not all artists are artists because they draw. It's the idea that counts in forming something of your own... like a signature.\",\n",
       "  \"Welcome to the robot ranks, person who downed my self-esteem cuz I'm not an avid signature artist like herself. :proud:\",\n",
       "  'Banned for taking all the room under my bed. Ya gotta learn to share with the roaches.',\n",
       "  'http://www.youtube.com/watch?v=w8IgImn57aQ',\n",
       "  'Banned for being too much of a thundering, grumbling kind of storm... yep.',\n",
       "  \"Ahh... old high school music I haven't heard in ages.   http://www.youtube.com/watch?v=dcCRUPCdB1w\",\n",
       "  \"I failed a public speaking class a few years ago and I've sort of learned what I could do better were I to be in that position again. A big part of my failure was just overloading myself with too...\",\n",
       "  \"I like this person's mentality. He's a confirmed INTJ by the way. http://www.youtube.com/watch?v=hGKLI-GEc6M\",\n",
       "  \"Move to the Denver area and start a new life for myself.'\"],\n",
       " [\"'I'm finding the lack of me in these posts very alarming.\",\n",
       "  \"Sex can be boring if it's in the same position often. For example me and my girlfriend are currently in an environment where we have to creatively use cowgirl and missionary. There isn't enough...\",\n",
       "  \"Giving new meaning to 'Game' theory.\",\n",
       "  \"Hello *ENTP Grin*  That's all it takes. Than we converse and they do most of the flirting while I acknowledge their presence and return their words with smooth wordplay and more cheeky grins.\",\n",
       "  'This + Lack of Balance and Hand Eye Coordination.',\n",
       "  \"Real IQ test I score 127. Internet IQ tests are funny. I score 140s or higher.  Now, like the former responses of this thread I will mention that I don't believe in the IQ test. Before you banish...\",\n",
       "  \"You know you're an ENTP when you vanish from a site for a year and a half, return, and find people are still commenting on your posts and liking your ideas/thoughts. You know you're an ENTP when you...\",\n",
       "  'http://img188.imageshack.us/img188/6422/6020d1f9da6944a6b71bbe6.jpg',\n",
       "  'http://img.adultdvdtalk.com/813a0c6243814cab84c51',\n",
       "  'I over think things sometimes. I go by the old Sherlock Holmes quote.  Perhaps, when a man has special knowledge and special powers like my  own, it rather encourages him to seek a complex...',\n",
       "  'cheshirewolf.tumblr.com  So is I :D',\n",
       "  '400,000+  post',\n",
       "  \"Not really; I've never thought of E/I or J/P as real functions.  I judge myself on what I use. I use Ne and Ti as my dominates. Fe for emotions and rarely Si. I also use Ni due to me strength...\",\n",
       "  'You know though. That was ingenious. After saying it I really want to try it and see what happens with me playing a first person shooter in the back while we drive around. I want to see the look on...',\n",
       "  \"out of all of them the rock paper one is the best. It makes me lol.  You guys are lucky :D I'm really high up on the tumblr system.\",\n",
       "  \"So did you hear about that new first person shooter game? I've been rocking the hell out of the soundtrack on my auto sound equipment that will shake the heavens. We managed to put a couple PS3's in...\",\n",
       "  'No; The way he connected things was very Ne. Ne dominates are just as aware of their environments as Se dominates.  Example: Shawn Spencer or Patrick Jane; Both ENTPs.',\n",
       "  \"Well charlie I will be the first to admit I do get jealous like you do. I chalk it up to my 4w3 heart mixed with my dominate 7w8. 7s and 8s both like to be noticed. 4's like to be known (not the same...\",\n",
       "  \";D I'll upload the same clip with the mic away from my mouth. Than you won't hear anything.  Ninja Assassin style but with splatter.\",\n",
       "  'Tik Tok is a really great song. As long as you can mental block out the singer. I love the beat it makes me bounce.',\n",
       "  'drop.io v1swck0  :D Mic really close to my mouth and smokin aces: assassins ball playing in the background.',\n",
       "  \"Sociable =/= extrovert; I'm an extrovert and I'm not sociable. :)\",\n",
       "  \"Sherlock in the movie was an ENTP. Normally he's played as a EXTJ. In the books he's an ESTJ.  As I said. The movie looked good except for it being called sherlock holmes.\",\n",
       "  'http://i817.photobucket.com/albums/zz96/kamioo/Dirtywinch.png',\n",
       "  \"Oh, I never had fear of kissing a guy. I will kiss an animal too. So there was nothing to vanish. Just personal taste and me not liking it.  The guy I kissed didn't know me. It was one of those...\",\n",
       "  \"Sounds pretty much like my area and what I'm going through right now trying to figure out which way I want to take my life. I want to do so many things. The biggest problem is that I know if I don't...\",\n",
       "  ';D I was operating under the impression that you were female. I never looked at your boxy. Okay, I help out my gay friends all the time and one of them has developed a little crush on me. I get red...',\n",
       "  \"T_T You just described me  and I'm living the worst nightmare. I'm trapped in one place with one one around. Only dull woods. If I was a serial killer this would be the perfect place but sadly I'm...\",\n",
       "  'TBH, and biased, sounds like a shadowed INFP. I think maybe he was hurt and turned ESTJ. I can tell because he has some of the typical INFP traits left over.',\n",
       "  \"*Checks list* I'm sorry. It seems that you have came at a bad time. We've already reached our quota of INFJs. However, being you're female and I like females I will make you a deal. I will kick one...\",\n",
       "  \"I'm ANTP (Leaning toward E). I'm easy for both ENTPs and INTPs to identify with. :)\",\n",
       "  \"I also imagine ENTP's interrogations would go a little bit like Jack's from 24 except more mechanical. Rigging up shock treatment equipment in an abandoned building out of an old car batty, jumper...\",\n",
       "  \"It was a compliment :) Trust me. I'm just as psychopathic :D except I have emoticons. They're just weird ones. Like laughing when I get hurt or at people running themselves over with their lawn mower...\",\n",
       "  'http://i817.photobucket.com/albums/zz96/kamioo/Thunderstorm.pnghttp://i817.photobucket.com/albums/zz96/kamioo/Thunderstormbw.png http://i817.photobucket.com/albums/zz96/kamioo/Cosmicstorm.png',\n",
       "  \"No. It's like a theme for where I live and that is why I know it by heart.   http://www.youtube.com/watch?v=j5W73HaVQBg\",\n",
       "  \"and I usual don't leave until the thing ends. But in the mean time. In between times. You work your thing. I'll work mine :D  ;D I'm the MBP; Pleasure to meet you.\",\n",
       "  'Damn, need to trust my instincts more I would have been closer I was going to say INFP.',\n",
       "  'EXFP? Leaning toward S with the way she responded.  :D My friends, even my gay and lesbian ones, always come to me for advice.',\n",
       "  \"I bow to my entp masters ENTPs are so great. If it wasn't for ENTPs I wouldn't have been able to build what I'm building  Duck Duck  Duck  Shotgun\",\n",
       "  'What? Me? I never do that >.> <.<',\n",
       "  \"Because its hard to be sad about losing someone you like when you knew you were right and give yourself a big pat on the back because you're awesome and always correct.\",\n",
       "  \"Oh, you don't have to tell me that most of them are stupid. I know this. That is why I play with them and it makes me laugh. :D As I'm going to take Neuropsychology and I have a few psychologist...\",\n",
       "  \":D I'm a Nightowl. I wake up between 6-7pm and stay awake till 10-11:30am.\",\n",
       "  'Personal opinion backed by theory would suggest that INTPs are the most socially difficult. While INTJs can be socially indifferent but they will also use social situations if the the need arises....',\n",
       "  \"Personal stocks that I have on my desktop that I've downloaded from random stock sites and stock photobuckets.\",\n",
       "  \"I'll tell you when I open photoshop.  :) Glad you like it static.\",\n",
       "  ':D Thanks.',\n",
       "  'http://i817.photobucket.com/albums/zz96/kamioo/Deathgrip.png http://i817.photobucket.com/albums/zz96/kamioo/Deathgripbw.png  Made for a friend. Several hours of work. I constructed every line by...',\n",
       "  \":) Static: http://i817.photobucket.com/albums/zz96/kamioo/Statickitten.png  I'll have to get to your avatar later if one of my fellow teammates doesn't.\",\n",
       "  \"Psychologist don't keep me around long enough to diagnosis me. I like to toy with them. What I have diagnosis myself with and had a few psychologist friends (+ a few other friends) tell me I have is...'\"]]"
      ]
     },
     "execution_count": 7,
     "metadata": {},
     "output_type": "execute_result"
    }
   ],
   "source": [
    "[p.split('|||') for p in Personality.head(2).posts.values]"
   ]
  },
  {
   "cell_type": "markdown",
   "metadata": {},
   "source": [
    "DISTRIBUTION OF THE MBTI PERSONALITY TYPES"
   ]
  },
  {
   "cell_type": "code",
   "execution_count": 8,
   "metadata": {},
   "outputs": [
    {
     "data": {
      "text/plain": [
       "<function matplotlib.pyplot.show(close=None, block=None)>"
      ]
     },
     "execution_count": 8,
     "metadata": {},
     "output_type": "execute_result"
    },
    {
     "data": {
      "image/png": "[encoded data removed]",
      "text/plain": [
       "<Figure size 1200x400 with 1 Axes>"
      ]
     },
     "metadata": {},
     "output_type": "display_data"
    }
   ],
   "source": [
    "cnt_types = Personality['type'].value_counts()\n",
    "\n",
    "plt.figure(figsize=(12,4))\n",
    "sns.barplot(x=cnt_types.index,y=cnt_types.values,alpha=0.8)\n",
    "plt.ylabel('Number of Occurences',fontsize=18)\n",
    "plt.xlabel('Types',fontsize=12)\n",
    "plt.show"
   ]
  },
  {
   "cell_type": "markdown",
   "metadata": {},
   "source": [
    "ADD COLUMNS FOR THE TYPE INDICATORS"
   ]
  },
  {
   "cell_type": "code",
   "execution_count": 9,
   "metadata": {},
   "outputs": [
    {
     "data": {
      "text/html": [
       "<div>\n",
       "<style scoped>\n",
       "    .dataframe tbody tr th:only-of-type {\n",
       "        vertical-align: middle;\n",
       "    }\n",
       "\n",
       "    .dataframe tbody tr th {\n",
       "        vertical-align: top;\n",
       "    }\n",
       "\n",
       "    .dataframe thead th {\n",
       "        text-align: right;\n",
       "    }\n",
       "</style>\n",
       "<table border=\"1\" class=\"dataframe\">\n",
       "  <thead>\n",
       "    <tr style=\"text-align: right;\">\n",
       "      <th></th>\n",
       "      <th>type</th>\n",
       "      <th>posts</th>\n",
       "      <th>IE</th>\n",
       "      <th>NS</th>\n",
       "      <th>TF</th>\n",
       "      <th>JP</th>\n",
       "    </tr>\n",
       "  </thead>\n",
       "  <tbody>\n",
       "    <tr>\n",
       "      <th>0</th>\n",
       "      <td>INFJ</td>\n",
       "      <td>'http://www.youtube.com/watch?v=qsXHcwe3krw|||...</td>\n",
       "      <td>1</td>\n",
       "      <td>1</td>\n",
       "      <td>0</td>\n",
       "      <td>1</td>\n",
       "    </tr>\n",
       "    <tr>\n",
       "      <th>1</th>\n",
       "      <td>ENTP</td>\n",
       "      <td>'I'm finding the lack of me in these posts ver...</td>\n",
       "      <td>0</td>\n",
       "      <td>1</td>\n",
       "      <td>1</td>\n",
       "      <td>0</td>\n",
       "    </tr>\n",
       "    <tr>\n",
       "      <th>2</th>\n",
       "      <td>INTP</td>\n",
       "      <td>'Good one  _____   https://www.youtube.com/wat...</td>\n",
       "      <td>1</td>\n",
       "      <td>1</td>\n",
       "      <td>1</td>\n",
       "      <td>0</td>\n",
       "    </tr>\n",
       "    <tr>\n",
       "      <th>3</th>\n",
       "      <td>INTJ</td>\n",
       "      <td>'Dear INTP,   I enjoyed our conversation the o...</td>\n",
       "      <td>1</td>\n",
       "      <td>1</td>\n",
       "      <td>1</td>\n",
       "      <td>1</td>\n",
       "    </tr>\n",
       "    <tr>\n",
       "      <th>4</th>\n",
       "      <td>ENTJ</td>\n",
       "      <td>'You're fired.|||That's another silly misconce...</td>\n",
       "      <td>0</td>\n",
       "      <td>1</td>\n",
       "      <td>1</td>\n",
       "      <td>1</td>\n",
       "    </tr>\n",
       "  </tbody>\n",
       "</table>\n",
       "</div>"
      ],
      "text/plain": [
       "   type                                              posts  IE  NS  TF  JP\n",
       "0  INFJ  'http://www.youtube.com/watch?v=qsXHcwe3krw|||...   1   1   0   1\n",
       "1  ENTP  'I'm finding the lack of me in these posts ver...   0   1   1   0\n",
       "2  INTP  'Good one  _____   https://www.youtube.com/wat...   1   1   1   0\n",
       "3  INTJ  'Dear INTP,   I enjoyed our conversation the o...   1   1   1   1\n",
       "4  ENTJ  'You're fired.|||That's another silly misconce...   0   1   1   1"
      ]
     },
     "execution_count": 9,
     "metadata": {},
     "output_type": "execute_result"
    }
   ],
   "source": [
    "def get_types(row):\n",
    "    t=row['type']\n",
    "\n",
    "    I = 0; N = 0\n",
    "    T = 0; J = 0\n",
    "      \n",
    "    if t[0] == 'I':I = 1\n",
    "    elif t[0] == 'E':I = 0\n",
    "    else: print('I-E incorrect') \n",
    "\n",
    "    if t[1] == 'N':N= 1\n",
    "    elif t[1] == 'S':N= 0\n",
    "    else: print('N-S incorrect') \n",
    "\n",
    "    if t[2] == 'T':T = 1\n",
    "    elif t[2] == 'F':T= 0\n",
    "    else: print('T-F incorrect') \n",
    "\n",
    "    if t[3] == 'J':J = 1\n",
    "    elif t[3] == 'P':J = 0\n",
    "    else: print('J-P incorrect') \n",
    "    return pd.Series( {'IE':I,'NS':N,'TF':T,'JP':J} )\n",
    "\n",
    "Personality = Personality.join(Personality.apply (lambda row: get_types (row),axis=1))\n",
    "Personality.head(5)"
   ]
  },
  {
   "cell_type": "code",
   "execution_count": 10,
   "metadata": {},
   "outputs": [
    {
     "name": "stdout",
     "output_type": "stream",
     "text": [
      "Introversion (I) / Extrovrersion(E):\t 1999 / 6676\n",
      "Intution (I) / Sensing(S):\t 1197 / 7478\n",
      "Thinking (I) / Feeling(F):\t 4694 / 3981\n",
      "Judging (I) / Perceiving(J):\t 5241 / 3434\n"
     ]
    }
   ],
   "source": [
    "print (\"Introversion (I) / Extrovrersion(E):\\t\",Personality['IE'].value_counts()[0],\"/\",Personality['IE'].value_counts()[1])\n",
    "print (\"Intution (I) / Sensing(S):\\t\",Personality['NS'].value_counts()[0],\"/\",Personality['NS'].value_counts()[1])\n",
    "print (\"Thinking (I) / Feeling(F):\\t\",Personality['TF'].value_counts()[0],\"/\",Personality['TF'].value_counts()[1])\n",
    "print (\"Judging (I) / Perceiving(J):\\t\",Personality['JP'].value_counts()[0],\"/\",Personality['JP'].value_counts()[1])\n"
   ]
  },
  {
   "cell_type": "code",
   "execution_count": 11,
   "metadata": {},
   "outputs": [
    {
     "data": {
      "image/png": "[encoded data removed]",
      "text/plain": [
       "<Figure size 640x480 with 1 Axes>"
      ]
     },
     "metadata": {},
     "output_type": "display_data"
    }
   ],
   "source": [
    "N = 4\n",
    "but = (Personality['IE'].value_counts()[0],Personality['NS'].value_counts()[0],Personality['TF'].value_counts()[0],Personality['JP'].value_counts()[0])\n",
    "top = (Personality['IE'].value_counts()[1],Personality['NS'].value_counts()[1],Personality['TF'].value_counts()[1],Personality['JP'].value_counts()[1])\n",
    "\n",
    "ind = np.arange(N)  # here x Locations for the groups\n",
    "width = 0.7       #Here width of the bars: can also be len(x) sequence\n",
    "\n",
    "p1 = plt.bar(ind,but,width)\n",
    "p2 = plt.bar(ind,top,width,bottom=but)\n",
    "\n",
    "plt.ylabel('Count')\n",
    "plt.title('Distribution accross types indicators')\n",
    "plt.xticks(ind,('I/E','N/S','T/F','J/P'))\n",
    "\n",
    "plt.show()"
   ]
  },
  {
   "cell_type": "markdown",
   "metadata": {},
   "source": [
    "PERSON FEATURES COREELATION"
   ]
  },
  {
   "cell_type": "code",
   "execution_count": 12,
   "metadata": {},
   "outputs": [
    {
     "data": {
      "text/html": [
       "<div>\n",
       "<style scoped>\n",
       "    .dataframe tbody tr th:only-of-type {\n",
       "        vertical-align: middle;\n",
       "    }\n",
       "\n",
       "    .dataframe tbody tr th {\n",
       "        vertical-align: top;\n",
       "    }\n",
       "\n",
       "    .dataframe thead th {\n",
       "        text-align: right;\n",
       "    }\n",
       "</style>\n",
       "<table border=\"1\" class=\"dataframe\">\n",
       "  <thead>\n",
       "    <tr style=\"text-align: right;\">\n",
       "      <th></th>\n",
       "      <th>IE</th>\n",
       "      <th>NS</th>\n",
       "      <th>TF</th>\n",
       "      <th>JP</th>\n",
       "    </tr>\n",
       "  </thead>\n",
       "  <tbody>\n",
       "    <tr>\n",
       "      <th>IE</th>\n",
       "      <td>1.000000</td>\n",
       "      <td>-0.045899</td>\n",
       "      <td>-0.069573</td>\n",
       "      <td>0.161939</td>\n",
       "    </tr>\n",
       "    <tr>\n",
       "      <th>NS</th>\n",
       "      <td>-0.045899</td>\n",
       "      <td>1.000000</td>\n",
       "      <td>-0.080954</td>\n",
       "      <td>0.014922</td>\n",
       "    </tr>\n",
       "    <tr>\n",
       "      <th>TF</th>\n",
       "      <td>-0.069573</td>\n",
       "      <td>-0.080954</td>\n",
       "      <td>1.000000</td>\n",
       "      <td>-0.004673</td>\n",
       "    </tr>\n",
       "    <tr>\n",
       "      <th>JP</th>\n",
       "      <td>0.161939</td>\n",
       "      <td>0.014922</td>\n",
       "      <td>-0.004673</td>\n",
       "      <td>1.000000</td>\n",
       "    </tr>\n",
       "  </tbody>\n",
       "</table>\n",
       "</div>"
      ],
      "text/plain": [
       "          IE        NS        TF        JP\n",
       "IE  1.000000 -0.045899 -0.069573  0.161939\n",
       "NS -0.045899  1.000000 -0.080954  0.014922\n",
       "TF -0.069573 -0.080954  1.000000 -0.004673\n",
       "JP  0.161939  0.014922 -0.004673  1.000000"
      ]
     },
     "execution_count": 12,
     "metadata": {},
     "output_type": "execute_result"
    }
   ],
   "source": [
    "Personality[['IE','NS','TF','JP']].corr()"
   ]
  },
  {
   "cell_type": "code",
   "execution_count": 13,
   "metadata": {},
   "outputs": [
    {
     "data": {
      "text/plain": [
       "<Axes: title={'center': 'Person Features Correlation'}>"
      ]
     },
     "execution_count": 13,
     "metadata": {},
     "output_type": "execute_result"
    },
    {
     "data": {
      "image/png": "[encoded data removed]",
      "text/plain": [
       "<Figure size 1200x1000 with 2 Axes>"
      ]
     },
     "metadata": {},
     "output_type": "display_data"
    }
   ],
   "source": [
    "cmap = plt.cm.RdBu\n",
    "corr = Personality[['IE','NS','TF','JP']].corr()\n",
    "plt.figure(figsize=(12,10))\n",
    "plt.title(\"Person Features Correlation\",size=15)\n",
    "sns.heatmap(corr,cmap=cmap,annot=True,linewidths=1)"
   ]
  },
  {
   "cell_type": "markdown",
   "metadata": {},
   "source": [
    "PREPARING THE DATA"
   ]
  },
  {
   "cell_type": "markdown",
   "metadata": {},
   "source": [
    "Binarize Type Indicator (Better implementation than mine above)"
   ]
  },
  {
   "cell_type": "code",
   "execution_count": 14,
   "metadata": {},
   "outputs": [
    {
     "name": "stdout",
     "output_type": "stream",
     "text": [
      "Binarlize MBTI list: \n",
      "[[0 0 0 0]\n",
      " [1 0 1 1]\n",
      " [0 0 1 1]\n",
      " [0 0 1 0]]\n"
     ]
    }
   ],
   "source": [
    "b_Pers = {'I':0,'E':1,'N':0,'S':1,'F':0,'T':1,'J':0,'P':1}\n",
    "b_Pers_list = [{0:'I',1:'E'},{0:'N',1:'S'},{0:'F',1:'T'},{0:'J',1:'P'}]\n",
    "\n",
    "def translate_personality(personality):\n",
    "    # transform mbti to binary vector\n",
    "    \n",
    "    return [b_Pers[l] for l in personality]\n",
    "\n",
    "def translate_back(personality):\n",
    "    # transform binary vector to mbti personality\n",
    "    \n",
    "    s = \"\"\n",
    "    for i, l in enumerate(personality):\n",
    "        s += b_Pers_list[i][l]\n",
    "    return s\n",
    "\n",
    "d = Personality.head(4)\n",
    "list_personality_bin = np.array([translate_personality(p) for p in d.type])\n",
    "print(\"Binarlize MBTI list: \\n%s\" % list_personality_bin)"
   ]
  },
  {
   "cell_type": "code",
   "execution_count": 15,
   "metadata": {},
   "outputs": [],
   "source": [
    "##### Compute list of subject with Type | list of comments\n",
    "from nltk.stem import PorterStemmer, WordNetLemmatizer\n",
    "from nltk.corpus import stopwords\n",
    "from nltk import word_tokenize\n",
    "\n",
    "# We want to remove these from the posts\n",
    "unique_type_list = ['INFJ','ENTP','INTP','INTJ','ENTJ','ENFJ','INFP','ENFP','ISFP','ISTP','ISFJ','ISTJ','ESTP','ESTJ','ESFJ']\n",
    "\n",
    "unique_type_list = [x.lower() for x in unique_type_list]\n",
    "\n",
    "# Lemmatize I\n",
    "stemmer = PorterStemmer()\n",
    "lemmatiser = WordNetLemmatizer()\n",
    "\n",
    "# Cache the stop words for speed\n",
    "cachedStopWords = stopwords.words(\"english\")\n",
    "\n",
    "def pre_process_Personality(Personality, remove_stop_words=True, remove_mbti_profiles=True):\n",
    "    \n",
    "    list_personality = []\n",
    "    list_posts = []\n",
    "    len_personality = len(Personality)\n",
    "    i=0\n",
    "    \n",
    "    for row in Personality.iterrows():\n",
    "        i+=1\n",
    "        if (i % 500 == 0 or i == 1 or i == len_personality):\n",
    "            print(\"%s of %s rows\" % (i,len_personality))\n",
    "              \n",
    "        ##### Remove and clean comments\n",
    "        posts= row[1].posts\n",
    "        temp = re.sub('http[s]?://(?:[a-zA-Z]|[0-9]|[$-_@.&+]|(?:%[0-9a-fA-F][0-9a-fA-F]))+','', posts)\n",
    "        temp = re.sub(\"[^a-zA-Z]\", \" \", temp)\n",
    "        temp = re.sub(' +',' ',temp).lower()\n",
    "        \n",
    "        if remove_stop_words:\n",
    "            temp = \" \".join([lemmatiser.lemmatize(w) for w in temp.split(' ') if w not in cachedStopWords])\n",
    "        else:\n",
    "            temp = \" \".join([lemmatiser.lemmatize(w) for w in temp.split(' ')])\n",
    "        if remove_mbti_profiles:\n",
    "            for t in unique_type_list:\n",
    "                temp = temp.replace(t,\"\")\n",
    "                             \n",
    "        type_labelized = translate_personality(row[1].type)\n",
    "        list_personality.append(type_labelized)\n",
    "        list_posts.append(temp)\n",
    "        \n",
    "    list_posts = np.array(list_posts)\n",
    "    list_personality = np.array(list_personality)\n",
    "    return list_posts, list_personality\n"
   ]
  },
  {
   "cell_type": "code",
   "execution_count": 16,
   "metadata": {},
   "outputs": [
    {
     "name": "stderr",
     "output_type": "stream",
     "text": [
      "[nltk_data] Downloading package stopwords to\n",
      "[nltk_data]     C:\\Users\\hp\\AppData\\Roaming\\nltk_data...\n",
      "[nltk_data]   Package stopwords is already up-to-date!\n"
     ]
    },
    {
     "data": {
      "text/plain": [
       "True"
      ]
     },
     "execution_count": 16,
     "metadata": {},
     "output_type": "execute_result"
    }
   ],
   "source": [
    "import nltk\n",
    "nltk.download('stopwords')"
   ]
  },
  {
   "cell_type": "code",
   "execution_count": 17,
   "metadata": {},
   "outputs": [
    {
     "name": "stderr",
     "output_type": "stream",
     "text": [
      "[nltk_data] Downloading package wordnet to\n",
      "[nltk_data]     C:\\Users\\hp\\AppData\\Roaming\\nltk_data...\n",
      "[nltk_data]   Package wordnet is already up-to-date!\n"
     ]
    },
    {
     "data": {
      "text/plain": [
       "True"
      ]
     },
     "execution_count": 17,
     "metadata": {},
     "output_type": "execute_result"
    }
   ],
   "source": [
    "#LookupError:\n",
    "#*******\n",
    "# Resource wordnet not found.\n",
    "# Please use the NLTK Downloader to obtain the resource:\n",
    "import nltk\n",
    "nltk.download('wordnet')"
   ]
  },
  {
   "cell_type": "code",
   "execution_count": 18,
   "metadata": {},
   "outputs": [
    {
     "name": "stderr",
     "output_type": "stream",
     "text": [
      "[nltk_data] Downloading package omw-1.4 to\n",
      "[nltk_data]     C:\\Users\\hp\\AppData\\Roaming\\nltk_data...\n",
      "[nltk_data]   Package omw-1.4 is already up-to-date!\n"
     ]
    },
    {
     "data": {
      "text/plain": [
       "True"
      ]
     },
     "execution_count": 18,
     "metadata": {},
     "output_type": "execute_result"
    }
   ],
   "source": [
    "import nltk\n",
    "nltk.download('omw-1.4')"
   ]
  },
  {
   "cell_type": "code",
   "execution_count": 19,
   "metadata": {
    "scrolled": true
   },
   "outputs": [
    {
     "name": "stdout",
     "output_type": "stream",
     "text": [
      "1 of 8675 rows\n",
      "500 of 8675 rows\n",
      "1000 of 8675 rows\n",
      "1500 of 8675 rows\n",
      "2000 of 8675 rows\n",
      "2500 of 8675 rows\n",
      "3000 of 8675 rows\n",
      "3500 of 8675 rows\n",
      "4000 of 8675 rows\n",
      "4500 of 8675 rows\n",
      "5000 of 8675 rows\n",
      "5500 of 8675 rows\n",
      "6000 of 8675 rows\n",
      "6500 of 8675 rows\n",
      "7000 of 8675 rows\n",
      "7500 of 8675 rows\n",
      "8000 of 8675 rows\n",
      "8500 of 8675 rows\n",
      "8675 of 8675 rows\n"
     ]
    }
   ],
   "source": [
    "lists_posts,list_personality = pre_process_Personality(Personality,remove_stop_words=True)"
   ]
  },
  {
   "cell_type": "code",
   "execution_count": 20,
   "metadata": {},
   "outputs": [
    {
     "name": "stdout",
     "output_type": "stream",
     "text": [
      "Num posts and personalities: (8675,) (8675, 4)\n"
     ]
    }
   ],
   "source": [
    "print(\"Num posts and personalities:\",lists_posts.shape,list_personality.shape)"
   ]
  },
  {
   "cell_type": "code",
   "execution_count": 21,
   "metadata": {},
   "outputs": [
    {
     "data": {
      "text/plain": [
       "'   moment sportscenter top ten play prank life changing experience life repeat today may perc experience immerse last thing  friend posted facebook committing suicide next day rest peace hello  sorry hear distress natural relationship perfection time every moment existence try figure hard time time growth welcome stuff game set match prozac wellbrutin least thirty minute moving leg mean moving sitting desk chair weed moderation maybe try edible healthier alternative basically come three item determined type whichever type want would likely use given type cognitive function whatnot left thing moderation sims indeed video game good one note good one somewhat subjective completely promoting death given sim dear  favorite video game growing current favorite video game cool appears late sad someone everyone wait thought confidence good thing cherish time solitude b c revel within inner world whereas time workin enjoy time worry people always around yo  lady complimentary personality well hey main social outlet xbox live conversation even verbally fatigue quickly really dig part banned thread requires get high backyard roast eat marshmellows backyard conversing something intellectual followed massage kiss banned many b sentence could think b banned watching movie corner dunce banned health class clearly taught nothing peer pressure banned whole host reason two baby deer left right munching beetle middle using blood two caveman diary today latest happening designated cave diary wall see pokemon world  society everyone becomes optimist artist artist draw idea count forming something like signature welcome robot rank person downed self esteem cuz avid signature artist like proud banned taking room bed ya gotta learn share roach banned much thundering grumbling kind storm yep ahh old high school music heard age failed public speaking class year ago sort learned could better position big part failure overloading like person mentality confirmed  way move denver area start new life '"
      ]
     },
     "execution_count": 21,
     "metadata": {},
     "output_type": "execute_result"
    }
   ],
   "source": [
    "lists_posts[0]"
   ]
  },
  {
   "cell_type": "code",
   "execution_count": 22,
   "metadata": {},
   "outputs": [
    {
     "data": {
      "text/plain": [
       "array([0, 0, 0, 0])"
      ]
     },
     "execution_count": 22,
     "metadata": {},
     "output_type": "execute_result"
    }
   ],
   "source": [
    "list_personality[0]"
   ]
  },
  {
   "cell_type": "markdown",
   "metadata": {},
   "source": [
    "VECTORIZE WITH COUNT AND TF-IDF"
   ]
  },
  {
   "cell_type": "code",
   "execution_count": 23,
   "metadata": {},
   "outputs": [
    {
     "name": "stdout",
     "output_type": "stream",
     "text": [
      "CountVectorizer...\n",
      "Tf-idf...\n"
     ]
    }
   ],
   "source": [
    "from sklearn.feature_extraction.text import TfidfTransformer\n",
    "from sklearn. feature_extraction.text import CountVectorizer\n",
    "from sklearn.manifold import TSNE\n",
    "\n",
    "# Posts to a matrix of token counts\n",
    "cntizer = CountVectorizer(analyzer=\"word\",\n",
    "                              max_features=1500,\n",
    "                              tokenizer=None,\n",
    "                              preprocessor=None,\n",
    "                              stop_words=None,\n",
    "                              max_df=0.7,\n",
    "                              min_df=0.1)\n",
    "\n",
    "# Learn the vocabulary dictionary and return term-document matrix\n",
    "print(\"CountVectorizer...\")\n",
    "\n",
    "X_cnt = cntizer.fit_transform(lists_posts)\n",
    "\n",
    "# Transform the count matrix to a normalized tf or tf-idf representation\n",
    "tfizer = TfidfTransformer()\n",
    "\n",
    "print(\"Tf-idf...\")\n",
    "# Learn the idf vector (fit) and transform a count matrix to a tf-idf representation\n",
    "x_tfidf = tfizer.fit_transform(X_cnt).toarray()"
   ]
  },
  {
   "cell_type": "code",
   "execution_count": 24,
   "metadata": {},
   "outputs": [
    {
     "data": {
      "text/plain": [
       "[(0, 'ability'),\n",
       " (1, 'able'),\n",
       " (2, 'absolutely'),\n",
       " (3, 'accept'),\n",
       " (4, 'accurate'),\n",
       " (5, 'across'),\n",
       " (6, 'act'),\n",
       " (7, 'action'),\n",
       " (8, 'actual'),\n",
       " (9, 'actually'),\n",
       " (10, 'add'),\n",
       " (11, 'admit'),\n",
       " (12, 'advice'),\n",
       " (13, 'afraid'),\n",
       " (14, 'age'),\n",
       " (15, 'ago'),\n",
       " (16, 'agree'),\n",
       " (17, 'ah'),\n",
       " (18, 'almost'),\n",
       " (19, 'alone'),\n",
       " (20, 'along'),\n",
       " (21, 'already'),\n",
       " (22, 'although'),\n",
       " (23, 'amazing'),\n",
       " (24, 'amount'),\n",
       " (25, 'angry'),\n",
       " (26, 'animal'),\n",
       " (27, 'annoying'),\n",
       " (28, 'another'),\n",
       " (29, 'answer'),\n",
       " (30, 'anxiety'),\n",
       " (31, 'anymore'),\n",
       " (32, 'anyone'),\n",
       " (33, 'anything'),\n",
       " (34, 'anyway'),\n",
       " (35, 'apparently'),\n",
       " (36, 'appreciate'),\n",
       " (37, 'approach'),\n",
       " (38, 'area'),\n",
       " (39, 'argument'),\n",
       " (40, 'around'),\n",
       " (41, 'art'),\n",
       " (42, 'ask'),\n",
       " (43, 'asked'),\n",
       " (44, 'asking'),\n",
       " (45, 'aspect'),\n",
       " (46, 'assume'),\n",
       " (47, 'attention'),\n",
       " (48, 'attracted'),\n",
       " (49, 'avatar'),\n",
       " (50, 'avoid'),\n",
       " (51, 'aware'),\n",
       " (52, 'away'),\n",
       " (53, 'awesome'),\n",
       " (54, 'awkward'),\n",
       " (55, 'baby'),\n",
       " (56, 'back'),\n",
       " (57, 'bad'),\n",
       " (58, 'based'),\n",
       " (59, 'basically'),\n",
       " (60, 'beautiful'),\n",
       " (61, 'become'),\n",
       " (62, 'bed'),\n",
       " (63, 'behavior'),\n",
       " (64, 'behind'),\n",
       " (65, 'belief'),\n",
       " (66, 'believe'),\n",
       " (67, 'best'),\n",
       " (68, 'better'),\n",
       " (69, 'big'),\n",
       " (70, 'bit'),\n",
       " (71, 'black'),\n",
       " (72, 'blue'),\n",
       " (73, 'body'),\n",
       " (74, 'book'),\n",
       " (75, 'bored'),\n",
       " (76, 'boring'),\n",
       " (77, 'born'),\n",
       " (78, 'bother'),\n",
       " (79, 'boy'),\n",
       " (80, 'boyfriend'),\n",
       " (81, 'brain'),\n",
       " (82, 'break'),\n",
       " (83, 'bring'),\n",
       " (84, 'brother'),\n",
       " (85, 'buy'),\n",
       " (86, 'call'),\n",
       " (87, 'called'),\n",
       " (88, 'came'),\n",
       " (89, 'cannot'),\n",
       " (90, 'car'),\n",
       " (91, 'care'),\n",
       " (92, 'career'),\n",
       " (93, 'case'),\n",
       " (94, 'cat'),\n",
       " (95, 'cause'),\n",
       " (96, 'certain'),\n",
       " (97, 'certainly'),\n",
       " (98, 'chance'),\n",
       " (99, 'change'),\n",
       " (100, 'changed'),\n",
       " (101, 'character'),\n",
       " (102, 'check'),\n",
       " (103, 'child'),\n",
       " (104, 'choice'),\n",
       " (105, 'choose'),\n",
       " (106, 'class'),\n",
       " (107, 'clear'),\n",
       " (108, 'clearly'),\n",
       " (109, 'close'),\n",
       " (110, 'cognitive'),\n",
       " (111, 'cold'),\n",
       " (112, 'college'),\n",
       " (113, 'color'),\n",
       " (114, 'come'),\n",
       " (115, 'comfortable'),\n",
       " (116, 'coming'),\n",
       " (117, 'comment'),\n",
       " (118, 'common'),\n",
       " (119, 'company'),\n",
       " (120, 'complete'),\n",
       " (121, 'completely'),\n",
       " (122, 'computer'),\n",
       " (123, 'concept'),\n",
       " (124, 'confused'),\n",
       " (125, 'connection'),\n",
       " (126, 'consider'),\n",
       " (127, 'considered'),\n",
       " (128, 'considering'),\n",
       " (129, 'constantly'),\n",
       " (130, 'contact'),\n",
       " (131, 'control'),\n",
       " (132, 'conversation'),\n",
       " (133, 'cool'),\n",
       " (134, 'correct'),\n",
       " (135, 'count'),\n",
       " (136, 'country'),\n",
       " (137, 'couple'),\n",
       " (138, 'course'),\n",
       " (139, 'crazy'),\n",
       " (140, 'create'),\n",
       " (141, 'creative'),\n",
       " (142, 'cry'),\n",
       " (143, 'curious'),\n",
       " (144, 'current'),\n",
       " (145, 'currently'),\n",
       " (146, 'cut'),\n",
       " (147, 'cute'),\n",
       " (148, 'dad'),\n",
       " (149, 'damn'),\n",
       " (150, 'dark'),\n",
       " (151, 'date'),\n",
       " (152, 'dating'),\n",
       " (153, 'day'),\n",
       " (154, 'dead'),\n",
       " (155, 'deal'),\n",
       " (156, 'dear'),\n",
       " (157, 'death'),\n",
       " (158, 'debate'),\n",
       " (159, 'decide'),\n",
       " (160, 'decided'),\n",
       " (161, 'decision'),\n",
       " (162, 'deep'),\n",
       " (163, 'definitely'),\n",
       " (164, 'degree'),\n",
       " (165, 'depends'),\n",
       " (166, 'depressed'),\n",
       " (167, 'depression'),\n",
       " (168, 'describe'),\n",
       " (169, 'description'),\n",
       " (170, 'desire'),\n",
       " (171, 'detail'),\n",
       " (172, 'die'),\n",
       " (173, 'difference'),\n",
       " (174, 'different'),\n",
       " (175, 'difficult'),\n",
       " (176, 'discussion'),\n",
       " (177, 'dislike'),\n",
       " (178, 'dog'),\n",
       " (179, 'dominant'),\n",
       " (180, 'done'),\n",
       " (181, 'dont'),\n",
       " (182, 'doubt'),\n",
       " (183, 'dream'),\n",
       " (184, 'drink'),\n",
       " (185, 'drive'),\n",
       " (186, 'due'),\n",
       " (187, 'early'),\n",
       " (188, 'easier'),\n",
       " (189, 'easily'),\n",
       " (190, 'easy'),\n",
       " (191, 'eat'),\n",
       " (192, 'edit'),\n",
       " (193, 'effect'),\n",
       " (194, 'effort'),\n",
       " (195, 'either'),\n",
       " (196, 'else'),\n",
       " (197, 'emotion'),\n",
       " (198, 'emotional'),\n",
       " (199, 'emotionally'),\n",
       " (200, 'end'),\n",
       " (201, 'ended'),\n",
       " (202, 'energy'),\n",
       " (203, 'english'),\n",
       " (204, 'enjoy'),\n",
       " (205, 'enneagram'),\n",
       " (206, 'enough'),\n",
       " (207, 'entire'),\n",
       " (208, 'environment'),\n",
       " (209, 'esfp'),\n",
       " (210, 'especially'),\n",
       " (211, 'etc'),\n",
       " (212, 'ever'),\n",
       " (213, 'every'),\n",
       " (214, 'everyone'),\n",
       " (215, 'everything'),\n",
       " (216, 'evil'),\n",
       " (217, 'ex'),\n",
       " (218, 'exact'),\n",
       " (219, 'exactly'),\n",
       " (220, 'example'),\n",
       " (221, 'except'),\n",
       " (222, 'exist'),\n",
       " (223, 'expect'),\n",
       " (224, 'experience'),\n",
       " (225, 'explain'),\n",
       " (226, 'express'),\n",
       " (227, 'extremely'),\n",
       " (228, 'extrovert'),\n",
       " (229, 'extroverted'),\n",
       " (230, 'eye'),\n",
       " (231, 'face'),\n",
       " (232, 'fact'),\n",
       " (233, 'fair'),\n",
       " (234, 'fairly'),\n",
       " (235, 'fall'),\n",
       " (236, 'family'),\n",
       " (237, 'fan'),\n",
       " (238, 'far'),\n",
       " (239, 'fast'),\n",
       " (240, 'father'),\n",
       " (241, 'favorite'),\n",
       " (242, 'fe'),\n",
       " (243, 'fear'),\n",
       " (244, 'feeling'),\n",
       " (245, 'fellow'),\n",
       " (246, 'felt'),\n",
       " (247, 'female'),\n",
       " (248, 'fi'),\n",
       " (249, 'fight'),\n",
       " (250, 'figure'),\n",
       " (251, 'finally'),\n",
       " (252, 'finding'),\n",
       " (253, 'fine'),\n",
       " (254, 'fit'),\n",
       " (255, 'focus'),\n",
       " (256, 'follow'),\n",
       " (257, 'food'),\n",
       " (258, 'forget'),\n",
       " (259, 'form'),\n",
       " (260, 'forum'),\n",
       " (261, 'found'),\n",
       " (262, 'four'),\n",
       " (263, 'free'),\n",
       " (264, 'friendship'),\n",
       " (265, 'front'),\n",
       " (266, 'fuck'),\n",
       " (267, 'full'),\n",
       " (268, 'fun'),\n",
       " (269, 'function'),\n",
       " (270, 'funny'),\n",
       " (271, 'future'),\n",
       " (272, 'game'),\n",
       " (273, 'gave'),\n",
       " (274, 'general'),\n",
       " (275, 'generally'),\n",
       " (276, 'getting'),\n",
       " (277, 'girl'),\n",
       " (278, 'give'),\n",
       " (279, 'given'),\n",
       " (280, 'giving'),\n",
       " (281, 'glad'),\n",
       " (282, 'goal'),\n",
       " (283, 'god'),\n",
       " (284, 'gone'),\n",
       " (285, 'gonna'),\n",
       " (286, 'got'),\n",
       " (287, 'gotten'),\n",
       " (288, 'grade'),\n",
       " (289, 'great'),\n",
       " (290, 'group'),\n",
       " (291, 'guess'),\n",
       " (292, 'guy'),\n",
       " (293, 'haha'),\n",
       " (294, 'hair'),\n",
       " (295, 'half'),\n",
       " (296, 'hand'),\n",
       " (297, 'hang'),\n",
       " (298, 'happen'),\n",
       " (299, 'happened'),\n",
       " (300, 'happens'),\n",
       " (301, 'happy'),\n",
       " (302, 'hard'),\n",
       " (303, 'hate'),\n",
       " (304, 'head'),\n",
       " (305, 'healthy'),\n",
       " (306, 'hear'),\n",
       " (307, 'heard'),\n",
       " (308, 'heart'),\n",
       " (309, 'hell'),\n",
       " (310, 'hello'),\n",
       " (311, 'help'),\n",
       " (312, 'helped'),\n",
       " (313, 'helpful'),\n",
       " (314, 'hey'),\n",
       " (315, 'hi'),\n",
       " (316, 'high'),\n",
       " (317, 'highly'),\n",
       " (318, 'history'),\n",
       " (319, 'hit'),\n",
       " (320, 'hmm'),\n",
       " (321, 'hold'),\n",
       " (322, 'home'),\n",
       " (323, 'honest'),\n",
       " (324, 'honestly'),\n",
       " (325, 'hope'),\n",
       " (326, 'hot'),\n",
       " (327, 'hour'),\n",
       " (328, 'house'),\n",
       " (329, 'however'),\n",
       " (330, 'hug'),\n",
       " (331, 'huge'),\n",
       " (332, 'human'),\n",
       " (333, 'humor'),\n",
       " (334, 'hurt'),\n",
       " (335, 'idea'),\n",
       " (336, 'ideal'),\n",
       " (337, 'im'),\n",
       " (338, 'image'),\n",
       " (339, 'imagine'),\n",
       " (340, 'important'),\n",
       " (341, 'individual'),\n",
       " (342, 'information'),\n",
       " (343, 'inside'),\n",
       " (344, 'instead'),\n",
       " (345, 'intelligence'),\n",
       " (346, 'intelligent'),\n",
       " (347, 'interaction'),\n",
       " (348, 'interest'),\n",
       " (349, 'interested'),\n",
       " (350, 'interesting'),\n",
       " (351, 'internet'),\n",
       " (352, 'introvert'),\n",
       " (353, 'introverted'),\n",
       " (354, 'intuition'),\n",
       " (355, 'intuitive'),\n",
       " (356, 'involved'),\n",
       " (357, 'issue'),\n",
       " (358, 'job'),\n",
       " (359, 'joke'),\n",
       " (360, 'keep'),\n",
       " (361, 'kid'),\n",
       " (362, 'kill'),\n",
       " (363, 'kind'),\n",
       " (364, 'kinda'),\n",
       " (365, 'knew'),\n",
       " (366, 'knowing'),\n",
       " (367, 'knowledge'),\n",
       " (368, 'known'),\n",
       " (369, 'lack'),\n",
       " (370, 'language'),\n",
       " (371, 'large'),\n",
       " (372, 'last'),\n",
       " (373, 'late'),\n",
       " (374, 'lately'),\n",
       " (375, 'later'),\n",
       " (376, 'laugh'),\n",
       " (377, 'laughing'),\n",
       " (378, 'lazy'),\n",
       " (379, 'le'),\n",
       " (380, 'lead'),\n",
       " (381, 'learn'),\n",
       " (382, 'learned'),\n",
       " (383, 'learning'),\n",
       " (384, 'least'),\n",
       " (385, 'leave'),\n",
       " (386, 'left'),\n",
       " (387, 'let'),\n",
       " (388, 'level'),\n",
       " (389, 'lie'),\n",
       " (390, 'light'),\n",
       " (391, 'liked'),\n",
       " (392, 'likely'),\n",
       " (393, 'line'),\n",
       " (394, 'link'),\n",
       " (395, 'list'),\n",
       " (396, 'listen'),\n",
       " (397, 'listening'),\n",
       " (398, 'literally'),\n",
       " (399, 'little'),\n",
       " (400, 'live'),\n",
       " (401, 'living'),\n",
       " (402, 'logic'),\n",
       " (403, 'logical'),\n",
       " (404, 'lol'),\n",
       " (405, 'long'),\n",
       " (406, 'longer'),\n",
       " (407, 'look'),\n",
       " (408, 'looked'),\n",
       " (409, 'looking'),\n",
       " (410, 'lose'),\n",
       " (411, 'lost'),\n",
       " (412, 'loud'),\n",
       " (413, 'loved'),\n",
       " (414, 'low'),\n",
       " (415, 'made'),\n",
       " (416, 'main'),\n",
       " (417, 'major'),\n",
       " (418, 'making'),\n",
       " (419, 'male'),\n",
       " (420, 'man'),\n",
       " (421, 'many'),\n",
       " (422, 'math'),\n",
       " (423, 'matter'),\n",
       " (424, 'may'),\n",
       " (425, 'maybe'),\n",
       " (426, 'mbti'),\n",
       " (427, 'mean'),\n",
       " (428, 'meaning'),\n",
       " (429, 'meant'),\n",
       " (430, 'meet'),\n",
       " (431, 'member'),\n",
       " (432, 'memory'),\n",
       " (433, 'men'),\n",
       " (434, 'mental'),\n",
       " (435, 'mention'),\n",
       " (436, 'mentioned'),\n",
       " (437, 'message'),\n",
       " (438, 'met'),\n",
       " (439, 'middle'),\n",
       " (440, 'might'),\n",
       " (441, 'mind'),\n",
       " (442, 'mine'),\n",
       " (443, 'minute'),\n",
       " (444, 'miss'),\n",
       " (445, 'mistake'),\n",
       " (446, 'mom'),\n",
       " (447, 'moment'),\n",
       " (448, 'money'),\n",
       " (449, 'month'),\n",
       " (450, 'mood'),\n",
       " (451, 'morning'),\n",
       " (452, 'mostly'),\n",
       " (453, 'mother'),\n",
       " (454, 'move'),\n",
       " (455, 'movie'),\n",
       " (456, 'music'),\n",
       " (457, 'must'),\n",
       " (458, 'name'),\n",
       " (459, 'natural'),\n",
       " (460, 'naturally'),\n",
       " (461, 'nature'),\n",
       " (462, 'ne'),\n",
       " (463, 'necessarily'),\n",
       " (464, 'needed'),\n",
       " (465, 'negative'),\n",
       " (466, 'new'),\n",
       " (467, 'next'),\n",
       " (468, 'ni'),\n",
       " (469, 'nice'),\n",
       " (470, 'night'),\n",
       " (471, 'non'),\n",
       " (472, 'none'),\n",
       " (473, 'normal'),\n",
       " (474, 'note'),\n",
       " (475, 'nothing'),\n",
       " (476, 'notice'),\n",
       " (477, 'noticed'),\n",
       " (478, 'nt'),\n",
       " (479, 'number'),\n",
       " (480, 'obvious'),\n",
       " (481, 'obviously'),\n",
       " (482, 'often'),\n",
       " (483, 'oh'),\n",
       " (484, 'ok'),\n",
       " (485, 'okay'),\n",
       " (486, 'old'),\n",
       " (487, 'older'),\n",
       " (488, 'online'),\n",
       " (489, 'op'),\n",
       " (490, 'open'),\n",
       " (491, 'opinion'),\n",
       " (492, 'opposite'),\n",
       " (493, 'option'),\n",
       " (494, 'order'),\n",
       " (495, 'original'),\n",
       " (496, 'others'),\n",
       " (497, 'otherwise'),\n",
       " (498, 'outside'),\n",
       " (499, 'page'),\n",
       " (500, 'pain'),\n",
       " (501, 'parent'),\n",
       " (502, 'part'),\n",
       " (503, 'particular'),\n",
       " (504, 'particularly'),\n",
       " (505, 'partner'),\n",
       " (506, 'party'),\n",
       " (507, 'past'),\n",
       " (508, 'pay'),\n",
       " (509, 'perc'),\n",
       " (510, 'perfect'),\n",
       " (511, 'perhaps'),\n",
       " (512, 'period'),\n",
       " (513, 'personal'),\n",
       " (514, 'personality'),\n",
       " (515, 'personally'),\n",
       " (516, 'perspective'),\n",
       " (517, 'phone'),\n",
       " (518, 'physical'),\n",
       " (519, 'pick'),\n",
       " (520, 'picture'),\n",
       " (521, 'piece'),\n",
       " (522, 'place'),\n",
       " (523, 'plan'),\n",
       " (524, 'play'),\n",
       " (525, 'playing'),\n",
       " (526, 'please'),\n",
       " (527, 'plus'),\n",
       " (528, 'point'),\n",
       " (529, 'positive'),\n",
       " (530, 'possibility'),\n",
       " (531, 'possible'),\n",
       " (532, 'possibly'),\n",
       " (533, 'post'),\n",
       " (534, 'posted'),\n",
       " (535, 'posting'),\n",
       " (536, 'power'),\n",
       " (537, 'prefer'),\n",
       " (538, 'present'),\n",
       " (539, 'pretty'),\n",
       " (540, 'probably'),\n",
       " (541, 'problem'),\n",
       " (542, 'process'),\n",
       " (543, 'project'),\n",
       " (544, 'proud'),\n",
       " (545, 'public'),\n",
       " (546, 'purpose'),\n",
       " (547, 'put'),\n",
       " (548, 'putting'),\n",
       " (549, 'quality'),\n",
       " (550, 'question'),\n",
       " (551, 'quickly'),\n",
       " (552, 'quiet'),\n",
       " (553, 'quite'),\n",
       " (554, 'quote'),\n",
       " (555, 'random'),\n",
       " (556, 'rare'),\n",
       " (557, 'rarely'),\n",
       " (558, 'rather'),\n",
       " (559, 'read'),\n",
       " (560, 'reading'),\n",
       " (561, 'real'),\n",
       " (562, 'reality'),\n",
       " (563, 'realize'),\n",
       " (564, 'realized'),\n",
       " (565, 'reason'),\n",
       " (566, 'recently'),\n",
       " (567, 'red'),\n",
       " (568, 'relate'),\n",
       " (569, 'related'),\n",
       " (570, 'relationship'),\n",
       " (571, 'religion'),\n",
       " (572, 'remember'),\n",
       " (573, 'reply'),\n",
       " (574, 'research'),\n",
       " (575, 'respect'),\n",
       " (576, 'response'),\n",
       " (577, 'rest'),\n",
       " (578, 'result'),\n",
       " (579, 'romantic'),\n",
       " (580, 'room'),\n",
       " (581, 'rule'),\n",
       " (582, 'run'),\n",
       " (583, 'sad'),\n",
       " (584, 'said'),\n",
       " (585, 'saw'),\n",
       " (586, 'saying'),\n",
       " (587, 'school'),\n",
       " (588, 'science'),\n",
       " (589, 'se'),\n",
       " (590, 'second'),\n",
       " (591, 'seeing'),\n",
       " (592, 'seem'),\n",
       " (593, 'seemed'),\n",
       " (594, 'seems'),\n",
       " (595, 'seen'),\n",
       " (596, 'self'),\n",
       " (597, 'sense'),\n",
       " (598, 'sensitive'),\n",
       " (599, 'series'),\n",
       " (600, 'serious'),\n",
       " (601, 'seriously'),\n",
       " (602, 'set'),\n",
       " (603, 'several'),\n",
       " (604, 'sex'),\n",
       " (605, 'share'),\n",
       " (606, 'shit'),\n",
       " (607, 'short'),\n",
       " (608, 'show'),\n",
       " (609, 'shy'),\n",
       " (610, 'si'),\n",
       " (611, 'side'),\n",
       " (612, 'sign'),\n",
       " (613, 'similar'),\n",
       " (614, 'simple'),\n",
       " (615, 'simply'),\n",
       " (616, 'since'),\n",
       " (617, 'single'),\n",
       " (618, 'sister'),\n",
       " (619, 'sit'),\n",
       " (620, 'site'),\n",
       " (621, 'situation'),\n",
       " (622, 'skill'),\n",
       " (623, 'sleep'),\n",
       " (624, 'small'),\n",
       " (625, 'smart'),\n",
       " (626, 'smile'),\n",
       " (627, 'social'),\n",
       " (628, 'society'),\n",
       " (629, 'somehow'),\n",
       " (630, 'sometimes'),\n",
       " (631, 'somewhat'),\n",
       " (632, 'somewhere'),\n",
       " (633, 'song'),\n",
       " (634, 'soon'),\n",
       " (635, 'sorry'),\n",
       " (636, 'sort'),\n",
       " (637, 'soul'),\n",
       " (638, 'sound'),\n",
       " (639, 'space'),\n",
       " (640, 'speak'),\n",
       " (641, 'speaking'),\n",
       " (642, 'special'),\n",
       " (643, 'specific'),\n",
       " (644, 'spend'),\n",
       " (645, 'spent'),\n",
       " (646, 'stand'),\n",
       " (647, 'start'),\n",
       " (648, 'started'),\n",
       " (649, 'starting'),\n",
       " (650, 'state'),\n",
       " (651, 'statement'),\n",
       " (652, 'stay'),\n",
       " (653, 'step'),\n",
       " (654, 'stereotype'),\n",
       " (655, 'stick'),\n",
       " (656, 'still'),\n",
       " (657, 'stop'),\n",
       " (658, 'story'),\n",
       " (659, 'straight'),\n",
       " (660, 'strange'),\n",
       " (661, 'stress'),\n",
       " (662, 'strong'),\n",
       " (663, 'stuck'),\n",
       " (664, 'student'),\n",
       " (665, 'study'),\n",
       " (666, 'stuff'),\n",
       " (667, 'stupid'),\n",
       " (668, 'style'),\n",
       " (669, 'subject'),\n",
       " (670, 'suck'),\n",
       " (671, 'super'),\n",
       " (672, 'support'),\n",
       " (673, 'suppose'),\n",
       " (674, 'supposed'),\n",
       " (675, 'sure'),\n",
       " (676, 'surprised'),\n",
       " (677, 'sweet'),\n",
       " (678, 'system'),\n",
       " (679, 'take'),\n",
       " (680, 'taken'),\n",
       " (681, 'taking'),\n",
       " (682, 'talk'),\n",
       " (683, 'talking'),\n",
       " (684, 'te'),\n",
       " (685, 'teacher'),\n",
       " (686, 'tell'),\n",
       " (687, 'telling'),\n",
       " (688, 'tend'),\n",
       " (689, 'tendency'),\n",
       " (690, 'term'),\n",
       " (691, 'terrible'),\n",
       " (692, 'test'),\n",
       " (693, 'text'),\n",
       " (694, 'th'),\n",
       " (695, 'thank'),\n",
       " (696, 'thanks'),\n",
       " (697, 'theory'),\n",
       " (698, 'thinking'),\n",
       " (699, 'thread'),\n",
       " (700, 'three'),\n",
       " (701, 'ti'),\n",
       " (702, 'tired'),\n",
       " (703, 'title'),\n",
       " (704, 'today'),\n",
       " (705, 'together'),\n",
       " (706, 'told'),\n",
       " (707, 'tongue'),\n",
       " (708, 'took'),\n",
       " (709, 'top'),\n",
       " (710, 'topic'),\n",
       " (711, 'totally'),\n",
       " (712, 'touch'),\n",
       " (713, 'towards'),\n",
       " (714, 'trait'),\n",
       " (715, 'tried'),\n",
       " (716, 'trouble'),\n",
       " (717, 'true'),\n",
       " (718, 'truly'),\n",
       " (719, 'trust'),\n",
       " (720, 'truth'),\n",
       " (721, 'try'),\n",
       " (722, 'trying'),\n",
       " (723, 'turn'),\n",
       " (724, 'tv'),\n",
       " (725, 'two'),\n",
       " (726, 'typing'),\n",
       " (727, 'understand'),\n",
       " (728, 'understanding'),\n",
       " (729, 'unfortunately'),\n",
       " (730, 'unhealthy'),\n",
       " (731, 'unless'),\n",
       " (732, 'unsure'),\n",
       " (733, 'upon'),\n",
       " (734, 'use'),\n",
       " (735, 'used'),\n",
       " (736, 'useful'),\n",
       " (737, 'user'),\n",
       " (738, 'using'),\n",
       " (739, 'usually'),\n",
       " (740, 'value'),\n",
       " (741, 'video'),\n",
       " (742, 'view'),\n",
       " (743, 'voice'),\n",
       " (744, 'wait'),\n",
       " (745, 'walk'),\n",
       " (746, 'wanted'),\n",
       " (747, 'wanting'),\n",
       " (748, 'watch'),\n",
       " (749, 'watched'),\n",
       " (750, 'watching'),\n",
       " (751, 'water'),\n",
       " (752, 'wear'),\n",
       " (753, 'week'),\n",
       " (754, 'weird'),\n",
       " (755, 'welcome'),\n",
       " (756, 'went'),\n",
       " (757, 'whatever'),\n",
       " (758, 'whenever'),\n",
       " (759, 'whether'),\n",
       " (760, 'white'),\n",
       " (761, 'whole'),\n",
       " (762, 'wink'),\n",
       " (763, 'wish'),\n",
       " (764, 'within'),\n",
       " (765, 'without'),\n",
       " (766, 'woman'),\n",
       " (767, 'wonder'),\n",
       " (768, 'wondering'),\n",
       " (769, 'word'),\n",
       " (770, 'work'),\n",
       " (771, 'worked'),\n",
       " (772, 'working'),\n",
       " (773, 'world'),\n",
       " (774, 'worry'),\n",
       " (775, 'worse'),\n",
       " (776, 'worst'),\n",
       " (777, 'worth'),\n",
       " (778, 'wow'),\n",
       " (779, 'write'),\n",
       " (780, 'writing'),\n",
       " (781, 'written'),\n",
       " (782, 'wrong'),\n",
       " (783, 'wrote'),\n",
       " (784, 'xd'),\n",
       " (785, 'yeah'),\n",
       " (786, 'year'),\n",
       " (787, 'yes'),\n",
       " (788, 'yesterday'),\n",
       " (789, 'yet'),\n",
       " (790, 'young'),\n",
       " (791, 'younger')]"
      ]
     },
     "execution_count": 24,
     "metadata": {},
     "output_type": "execute_result"
    }
   ],
   "source": [
    "features_names = list(enumerate(cntizer.get_feature_names_out()))\n",
    "features_names"
   ]
  },
  {
   "cell_type": "code",
   "execution_count": 25,
   "metadata": {},
   "outputs": [
    {
     "data": {
      "text/plain": [
       "(8675, 792)"
      ]
     },
     "execution_count": 25,
     "metadata": {},
     "output_type": "execute_result"
    }
   ],
   "source": [
    "x_tfidf.shape"
   ]
  },
  {
   "cell_type": "markdown",
   "metadata": {},
   "source": [
    "X/Y data"
   ]
  },
  {
   "cell_type": "code",
   "execution_count": 26,
   "metadata": {},
   "outputs": [
    {
     "name": "stdout",
     "output_type": "stream",
     "text": [
      "X: Posts in tf-idf representation \n",
      "* 1st row:\n",
      "[0.         0.         0.         0.         0.         0.\n",
      " 0.         0.         0.         0.         0.         0.\n",
      " 0.         0.         0.08042209 0.06830218 0.         0.\n",
      " 0.         0.         0.         0.         0.         0.\n",
      " 0.         0.         0.         0.         0.         0.\n",
      " 0.         0.         0.         0.         0.         0.\n",
      " 0.         0.         0.10331537 0.         0.04973404 0.\n",
      " 0.         0.         0.         0.         0.         0.\n",
      " 0.         0.         0.         0.         0.         0.\n",
      " 0.         0.10984584 0.         0.         0.         0.08642509\n",
      " 0.         0.         0.10488948 0.         0.         0.\n",
      " 0.         0.         0.05188886 0.06824736 0.         0.\n",
      " 0.         0.         0.         0.         0.         0.\n",
      " 0.         0.         0.         0.         0.         0.\n",
      " 0.         0.         0.         0.         0.         0.\n",
      " 0.         0.         0.         0.         0.         0.\n",
      " 0.         0.         0.         0.         0.         0.\n",
      " 0.         0.         0.         0.         0.16397917 0.\n",
      " 0.10688913 0.         0.09877559 0.         0.         0.\n",
      " 0.04608261 0.         0.         0.         0.         0.\n",
      " 0.         0.0719267  0.         0.         0.         0.\n",
      " 0.         0.         0.         0.         0.         0.\n",
      " 0.07283191 0.07407407 0.         0.10568848 0.         0.\n",
      " 0.         0.         0.         0.         0.         0.\n",
      " 0.1056548  0.         0.         0.         0.         0.\n",
      " 0.         0.         0.         0.04782271 0.         0.\n",
      " 0.09941139 0.09451469 0.         0.         0.         0.\n",
      " 0.         0.         0.         0.         0.         0.\n",
      " 0.         0.         0.         0.         0.         0.\n",
      " 0.         0.         0.         0.         0.         0.\n",
      " 0.         0.         0.         0.         0.         0.\n",
      " 0.         0.         0.         0.         0.         0.09534415\n",
      " 0.         0.         0.         0.         0.         0.\n",
      " 0.         0.         0.         0.         0.         0.\n",
      " 0.06872176 0.         0.         0.         0.         0.\n",
      " 0.         0.         0.         0.05582718 0.11108332 0.\n",
      " 0.         0.         0.         0.         0.         0.\n",
      " 0.         0.         0.12014107 0.         0.         0.\n",
      " 0.         0.         0.         0.         0.         0.\n",
      " 0.         0.         0.         0.         0.         0.\n",
      " 0.         0.15686138 0.         0.         0.         0.\n",
      " 0.         0.         0.         0.         0.08315126 0.\n",
      " 0.         0.         0.         0.         0.         0.\n",
      " 0.         0.         0.         0.         0.         0.\n",
      " 0.         0.         0.         0.         0.         0.06994393\n",
      " 0.         0.         0.28967862 0.         0.         0.\n",
      " 0.         0.         0.         0.18269044 0.         0.\n",
      " 0.         0.         0.         0.         0.         0.\n",
      " 0.         0.         0.         0.         0.         0.\n",
      " 0.         0.         0.         0.         0.         0.\n",
      " 0.         0.         0.0547579  0.         0.         0.\n",
      " 0.07784114 0.08260747 0.         0.         0.09099651 0.\n",
      " 0.         0.         0.07935032 0.         0.12951228 0.\n",
      " 0.         0.         0.         0.         0.         0.\n",
      " 0.         0.         0.         0.         0.         0.\n",
      " 0.         0.         0.         0.         0.         0.05337654\n",
      " 0.         0.         0.         0.         0.         0.\n",
      " 0.         0.         0.         0.         0.         0.\n",
      " 0.         0.         0.         0.         0.         0.\n",
      " 0.         0.         0.         0.         0.         0.\n",
      " 0.         0.         0.         0.05266898 0.         0.\n",
      " 0.         0.         0.         0.         0.         0.\n",
      " 0.05836642 0.0940125  0.         0.         0.         0.\n",
      " 0.         0.         0.         0.07856479 0.09349439 0.\n",
      " 0.06118606 0.         0.16913746 0.         0.         0.\n",
      " 0.         0.         0.0799363  0.         0.         0.\n",
      " 0.         0.         0.         0.         0.0665288  0.\n",
      " 0.         0.         0.         0.         0.         0.\n",
      " 0.         0.         0.         0.         0.         0.\n",
      " 0.         0.         0.09894029 0.         0.         0.\n",
      " 0.         0.04935906 0.         0.         0.0575142  0.05105458\n",
      " 0.         0.04654201 0.         0.         0.         0.\n",
      " 0.         0.         0.         0.         0.         0.\n",
      " 0.         0.09842152 0.         0.         0.         0.09398877\n",
      " 0.         0.         0.         0.14959903 0.         0.\n",
      " 0.         0.         0.         0.         0.08740328 0.07536433\n",
      " 0.06984036 0.         0.         0.09969166 0.         0.\n",
      " 0.         0.         0.         0.         0.05621427 0.07981208\n",
      " 0.         0.         0.         0.         0.         0.\n",
      " 0.09683441 0.06174913 0.         0.         0.         0.\n",
      " 0.         0.         0.         0.         0.         0.\n",
      " 0.06720138 0.         0.         0.         0.         0.\n",
      " 0.         0.         0.         0.         0.         0.\n",
      " 0.         0.         0.         0.         0.1144908  0.\n",
      " 0.         0.         0.         0.         0.         0.10502133\n",
      " 0.         0.         0.         0.         0.05920758 0.\n",
      " 0.         0.         0.         0.         0.         0.\n",
      " 0.         0.         0.07229573 0.         0.         0.\n",
      " 0.         0.         0.         0.         0.         0.\n",
      " 0.08910025 0.         0.         0.         0.         0.\n",
      " 0.         0.         0.         0.         0.09769795 0.10578971\n",
      " 0.         0.         0.         0.         0.         0.10692408\n",
      " 0.         0.         0.         0.         0.         0.\n",
      " 0.         0.         0.         0.         0.         0.\n",
      " 0.         0.056854   0.         0.         0.         0.\n",
      " 0.05655187 0.         0.         0.         0.         0.\n",
      " 0.         0.0967055  0.         0.         0.0884512  0.\n",
      " 0.         0.08325421 0.         0.         0.         0.0608422\n",
      " 0.         0.         0.         0.         0.         0.\n",
      " 0.         0.         0.06417914 0.         0.         0.\n",
      " 0.         0.         0.09239118 0.         0.         0.08242257\n",
      " 0.         0.         0.         0.         0.         0.\n",
      " 0.         0.         0.         0.         0.         0.\n",
      " 0.         0.         0.         0.         0.         0.\n",
      " 0.         0.         0.         0.06822546 0.09769795 0.\n",
      " 0.         0.10175234 0.         0.         0.         0.06439313\n",
      " 0.07327479 0.         0.         0.         0.         0.09874822\n",
      " 0.         0.         0.         0.         0.         0.06190271\n",
      " 0.         0.         0.         0.         0.         0.\n",
      " 0.         0.         0.         0.         0.         0.\n",
      " 0.         0.         0.         0.         0.         0.\n",
      " 0.06592056 0.         0.         0.         0.         0.\n",
      " 0.         0.         0.         0.         0.         0.\n",
      " 0.         0.         0.         0.07897035 0.         0.\n",
      " 0.         0.         0.         0.         0.         0.\n",
      " 0.         0.         0.         0.         0.         0.\n",
      " 0.         0.         0.         0.05092406 0.087854   0.\n",
      " 0.         0.         0.1494126  0.         0.         0.\n",
      " 0.         0.09340105 0.         0.         0.         0.\n",
      " 0.         0.         0.         0.         0.         0.\n",
      " 0.         0.09835864 0.         0.         0.         0.10555797\n",
      " 0.         0.         0.         0.         0.         0.\n",
      " 0.         0.         0.05765739 0.         0.         0.\n",
      " 0.08289525 0.         0.         0.2344923  0.         0.\n",
      " 0.08972042 0.         0.         0.         0.         0.\n",
      " 0.08588141 0.         0.         0.         0.         0.16034096\n",
      " 0.         0.         0.         0.         0.         0.07001317\n",
      " 0.         0.         0.10127672 0.         0.         0.\n",
      " 0.         0.         0.         0.         0.         0.10829927\n",
      " 0.09326152 0.         0.         0.         0.         0.\n",
      " 0.         0.         0.         0.         0.         0.\n",
      " 0.04577982 0.         0.         0.         0.         0.        ]\n"
     ]
    }
   ],
   "source": [
    "print(\"X: Posts in tf-idf representation \\n* 1st row:\\n%s\" % x_tfidf[0])"
   ]
  },
  {
   "cell_type": "code",
   "execution_count": 27,
   "metadata": {},
   "outputs": [
    {
     "name": "stdout",
     "output_type": "stream",
     "text": [
      "IE: Introversion (I) / Extroversion (E)\n",
      "NS: Intuition (N) - Sensing (s)\n",
      "FT: Feeling (F) - Thinking (T)\n",
      "JP: Judging (J) - Perceiving (P)\n"
     ]
    }
   ],
   "source": [
    "type_indicators = [ \"IE: Introversion (I) / Extroversion (E)\", \"NS: Intuition (N) - Sensing (s)\",\n",
    "                   \"FT: Feeling (F) - Thinking (T)\", \"JP: Judging (J) - Perceiving (P)\" ]\n",
    "\n",
    "for l in range(len(type_indicators)):\n",
    "    print(type_indicators[l])"
   ]
  },
  {
   "cell_type": "code",
   "execution_count": 28,
   "metadata": {},
   "outputs": [
    {
     "name": "stdout",
     "output_type": "stream",
     "text": [
      "MBTI 1st row: INFJ\n",
      "Y: Binarized MBTI 1st row: [0 0 0 0]\n"
     ]
    }
   ],
   "source": [
    "print (\"MBTI 1st row: %s\" % translate_back (list_personality [0, :]))\n",
    "print(\"Y: Binarized MBTI 1st row: %s\" % list_personality [0, :])"
   ]
  },
  {
   "cell_type": "markdown",
   "metadata": {},
   "source": [
    "FIRST XGBOOST MODEL FOR MBTI DATASET"
   ]
  },
  {
   "cell_type": "code",
   "execution_count": 29,
   "metadata": {},
   "outputs": [
    {
     "name": "stdout",
     "output_type": "stream",
     "text": [
      "IE: Introversion (I) / Extroversion (E)...\n"
     ]
    },
    {
     "name": "stdout",
     "output_type": "stream",
     "text": [
      "* IE: Introversion (I) / Extroversion (E) Accuracy: 76.74%\n",
      "NS: Intuition (N) - Sensing (s)...\n",
      "* NS: Intuition (N) - Sensing (s) Accuracy: 85.71%\n",
      "FT: Feeling (F) - Thinking (T)...\n",
      "* FT: Feeling (F) - Thinking (T) Accuracy: 72.37%\n",
      "JP: Judging (J) - Perceiving (P)...\n",
      "* JP: Judging (J) - Perceiving (P) Accuracy: 62.35%\n"
     ]
    }
   ],
   "source": [
    "# First XGBoost model for MBTI dataset\n",
    "from numpy import loadtxt\n",
    "from xgboost import XGBClassifier\n",
    "from sklearn.model_selection import train_test_split\n",
    "from sklearn.metrics import accuracy_score\n",
    "\n",
    "# Posts in tf-idf representation\n",
    "X = x_tfidf\n",
    "\n",
    "# Let's train type indicator individually\n",
    "for l in range (len (type_indicators)):\n",
    "    print(\"%s...\" % (type_indicators[l]))\n",
    "    \n",
    "    # Let's train type indicator individually\n",
    "    Y = list_personality[:,l]\n",
    "    \n",
    "    # split data into train and test sets\n",
    "    seed = 7\n",
    "    test_size = 0.33\n",
    "    X_train, X_test, y_train, y_test= train_test_split(X, Y, test_size=test_size, random_state=seed)\n",
    "    \n",
    "    # fit model on training data\n",
    "    model = XGBClassifier()\n",
    "    model.fit(X_train, y_train)\n",
    "    \n",
    "    # make predictions for test data\n",
    "    y_pred = model.predict(X_test)\n",
    "    predictions = [round(value) for value in y_pred]\n",
    "    # evaluate predictions\n",
    "    accuracy = accuracy_score(y_test, predictions)\n",
    "    print(\"* %s Accuracy: %.2f%%\" % (type_indicators[l], accuracy * 100.0))"
   ]
  },
  {
   "cell_type": "markdown",
   "metadata": {},
   "source": [
    "MONITOR PERFORMANCE AND EARLY STOPPING"
   ]
  },
  {
   "cell_type": "code",
   "execution_count": 30,
   "metadata": {},
   "outputs": [
    {
     "name": "stdout",
     "output_type": "stream",
     "text": [
      "IE: Introversion (I) / Extroversion (E)...\n"
     ]
    },
    {
     "name": "stderr",
     "output_type": "stream",
     "text": [
      "c:\\Users\\hp\\AppData\\Local\\Programs\\Python\\Python310\\lib\\site-packages\\xgboost\\sklearn.py:885: UserWarning: `eval_metric` in `fit` method is deprecated for better compatibility with scikit-learn, use `eval_metric` in constructor or`set_params` instead.\n",
      "  warnings.warn(\n",
      "c:\\Users\\hp\\AppData\\Local\\Programs\\Python\\Python310\\lib\\site-packages\\xgboost\\sklearn.py:885: UserWarning: `early_stopping_rounds` in `fit` method is deprecated for better compatibility with scikit-learn, use `early_stopping_rounds` in constructor or`set_params` instead.\n",
      "  warnings.warn(\n"
     ]
    },
    {
     "name": "stdout",
     "output_type": "stream",
     "text": [
      "[0]\tvalidation_0-logloss:0.52262\n",
      "[1]\tvalidation_0-logloss:0.51775\n",
      "[2]\tvalidation_0-logloss:0.51555\n",
      "[3]\tvalidation_0-logloss:0.51275\n",
      "[4]\tvalidation_0-logloss:0.51185\n",
      "[5]\tvalidation_0-logloss:0.50823\n",
      "[6]\tvalidation_0-logloss:0.50769\n",
      "[7]\tvalidation_0-logloss:0.50701\n",
      "[8]\tvalidation_0-logloss:0.50738\n",
      "[9]\tvalidation_0-logloss:0.50777\n",
      "[10]\tvalidation_0-logloss:0.50854\n",
      "[11]\tvalidation_0-logloss:0.50875\n",
      "[12]\tvalidation_0-logloss:0.51030\n",
      "[13]\tvalidation_0-logloss:0.51090\n",
      "[14]\tvalidation_0-logloss:0.51181\n",
      "[15]\tvalidation_0-logloss:0.51276\n",
      "[16]\tvalidation_0-logloss:0.51272\n",
      "[17]\tvalidation_0-logloss:0.51237\n",
      "* NS: Intuition (N) - Sensing (s) Accuracy: 77.54%\n",
      "NS: Intuition (N) - Sensing (s)...\n"
     ]
    },
    {
     "name": "stderr",
     "output_type": "stream",
     "text": [
      "c:\\Users\\hp\\AppData\\Local\\Programs\\Python\\Python310\\lib\\site-packages\\xgboost\\sklearn.py:885: UserWarning: `eval_metric` in `fit` method is deprecated for better compatibility with scikit-learn, use `eval_metric` in constructor or`set_params` instead.\n",
      "  warnings.warn(\n",
      "c:\\Users\\hp\\AppData\\Local\\Programs\\Python\\Python310\\lib\\site-packages\\xgboost\\sklearn.py:885: UserWarning: `early_stopping_rounds` in `fit` method is deprecated for better compatibility with scikit-learn, use `early_stopping_rounds` in constructor or`set_params` instead.\n",
      "  warnings.warn(\n"
     ]
    },
    {
     "name": "stdout",
     "output_type": "stream",
     "text": [
      "[0]\tvalidation_0-logloss:0.40564\n",
      "[1]\tvalidation_0-logloss:0.40118\n",
      "[2]\tvalidation_0-logloss:0.39530\n",
      "[3]\tvalidation_0-logloss:0.39450\n",
      "[4]\tvalidation_0-logloss:0.39509\n",
      "[5]\tvalidation_0-logloss:0.39365\n",
      "[6]\tvalidation_0-logloss:0.39427\n",
      "[7]\tvalidation_0-logloss:0.39380\n",
      "[8]\tvalidation_0-logloss:0.39318\n",
      "[9]\tvalidation_0-logloss:0.39435\n",
      "[10]\tvalidation_0-logloss:0.39313\n",
      "[11]\tvalidation_0-logloss:0.39263\n",
      "[12]\tvalidation_0-logloss:0.39284\n",
      "[13]\tvalidation_0-logloss:0.39307\n",
      "[14]\tvalidation_0-logloss:0.39405\n",
      "[15]\tvalidation_0-logloss:0.39511\n",
      "[16]\tvalidation_0-logloss:0.39605\n",
      "[17]\tvalidation_0-logloss:0.39648\n",
      "[18]\tvalidation_0-logloss:0.39798\n",
      "[19]\tvalidation_0-logloss:0.39832\n",
      "[20]\tvalidation_0-logloss:0.39902\n",
      "* NS: Intuition (N) - Sensing (s) Accuracy: 85.82%\n",
      "FT: Feeling (F) - Thinking (T)...\n"
     ]
    },
    {
     "name": "stderr",
     "output_type": "stream",
     "text": [
      "c:\\Users\\hp\\AppData\\Local\\Programs\\Python\\Python310\\lib\\site-packages\\xgboost\\sklearn.py:885: UserWarning: `eval_metric` in `fit` method is deprecated for better compatibility with scikit-learn, use `eval_metric` in constructor or`set_params` instead.\n",
      "  warnings.warn(\n",
      "c:\\Users\\hp\\AppData\\Local\\Programs\\Python\\Python310\\lib\\site-packages\\xgboost\\sklearn.py:885: UserWarning: `early_stopping_rounds` in `fit` method is deprecated for better compatibility with scikit-learn, use `early_stopping_rounds` in constructor or`set_params` instead.\n",
      "  warnings.warn(\n"
     ]
    },
    {
     "name": "stdout",
     "output_type": "stream",
     "text": [
      "[0]\tvalidation_0-logloss:0.66622\n",
      "[1]\tvalidation_0-logloss:0.65225\n",
      "[2]\tvalidation_0-logloss:0.64171\n",
      "[3]\tvalidation_0-logloss:0.63149\n",
      "[4]\tvalidation_0-logloss:0.62507\n",
      "[5]\tvalidation_0-logloss:0.62068\n",
      "[6]\tvalidation_0-logloss:0.61362\n",
      "[7]\tvalidation_0-logloss:0.60879\n",
      "[8]\tvalidation_0-logloss:0.60465\n",
      "[9]\tvalidation_0-logloss:0.59896\n",
      "[10]\tvalidation_0-logloss:0.59504\n",
      "[11]\tvalidation_0-logloss:0.58956\n",
      "[12]\tvalidation_0-logloss:0.58544\n",
      "[13]\tvalidation_0-logloss:0.58378\n",
      "[14]\tvalidation_0-logloss:0.58185\n",
      "[15]\tvalidation_0-logloss:0.58041\n",
      "[16]\tvalidation_0-logloss:0.57865\n",
      "[17]\tvalidation_0-logloss:0.57728\n",
      "[18]\tvalidation_0-logloss:0.57544\n",
      "[19]\tvalidation_0-logloss:0.57607\n",
      "[20]\tvalidation_0-logloss:0.57264\n",
      "[21]\tvalidation_0-logloss:0.57054\n",
      "[22]\tvalidation_0-logloss:0.57087\n",
      "[23]\tvalidation_0-logloss:0.57127\n",
      "[24]\tvalidation_0-logloss:0.56935\n",
      "[25]\tvalidation_0-logloss:0.57012\n",
      "[26]\tvalidation_0-logloss:0.56938\n",
      "[27]\tvalidation_0-logloss:0.57049\n",
      "[28]\tvalidation_0-logloss:0.56942\n",
      "[29]\tvalidation_0-logloss:0.56861\n",
      "[30]\tvalidation_0-logloss:0.56833\n",
      "[31]\tvalidation_0-logloss:0.56643\n",
      "[32]\tvalidation_0-logloss:0.56554\n",
      "[33]\tvalidation_0-logloss:0.56427\n",
      "[34]\tvalidation_0-logloss:0.56453\n",
      "[35]\tvalidation_0-logloss:0.56400\n",
      "[36]\tvalidation_0-logloss:0.56304\n",
      "[37]\tvalidation_0-logloss:0.56329\n",
      "[38]\tvalidation_0-logloss:0.56336\n",
      "[39]\tvalidation_0-logloss:0.56255\n",
      "[40]\tvalidation_0-logloss:0.56400\n",
      "[41]\tvalidation_0-logloss:0.56670\n",
      "[42]\tvalidation_0-logloss:0.56767\n",
      "[43]\tvalidation_0-logloss:0.56788\n",
      "[44]\tvalidation_0-logloss:0.56763\n",
      "[45]\tvalidation_0-logloss:0.56767\n",
      "[46]\tvalidation_0-logloss:0.56640\n",
      "[47]\tvalidation_0-logloss:0.56465\n",
      "[48]\tvalidation_0-logloss:0.56532\n",
      "* NS: Intuition (N) - Sensing (s) Accuracy: 70.87%\n",
      "JP: Judging (J) - Perceiving (P)...\n"
     ]
    },
    {
     "name": "stderr",
     "output_type": "stream",
     "text": [
      "c:\\Users\\hp\\AppData\\Local\\Programs\\Python\\Python310\\lib\\site-packages\\xgboost\\sklearn.py:885: UserWarning: `eval_metric` in `fit` method is deprecated for better compatibility with scikit-learn, use `eval_metric` in constructor or`set_params` instead.\n",
      "  warnings.warn(\n",
      "c:\\Users\\hp\\AppData\\Local\\Programs\\Python\\Python310\\lib\\site-packages\\xgboost\\sklearn.py:885: UserWarning: `early_stopping_rounds` in `fit` method is deprecated for better compatibility with scikit-learn, use `early_stopping_rounds` in constructor or`set_params` instead.\n",
      "  warnings.warn(\n"
     ]
    },
    {
     "name": "stdout",
     "output_type": "stream",
     "text": [
      "[0]\tvalidation_0-logloss:0.65518\n",
      "[1]\tvalidation_0-logloss:0.64993\n",
      "[2]\tvalidation_0-logloss:0.64907\n",
      "[3]\tvalidation_0-logloss:0.64735\n",
      "[4]\tvalidation_0-logloss:0.64768\n",
      "[5]\tvalidation_0-logloss:0.64917\n",
      "[6]\tvalidation_0-logloss:0.64857\n",
      "[7]\tvalidation_0-logloss:0.64842\n",
      "[8]\tvalidation_0-logloss:0.64754\n",
      "[9]\tvalidation_0-logloss:0.64899\n",
      "[10]\tvalidation_0-logloss:0.64972\n",
      "[11]\tvalidation_0-logloss:0.64990\n",
      "[12]\tvalidation_0-logloss:0.64975\n",
      "[13]\tvalidation_0-logloss:0.64937\n",
      "* NS: Intuition (N) - Sensing (s) Accuracy: 63.05%\n"
     ]
    }
   ],
   "source": [
    "# Let's train type indicator individually\n",
    "for l in range(len(type_indicators)):\n",
    "    print(\"%s...\" % (type_indicators[l]))\n",
    "    \n",
    "    Y = list_personality[:,l]\n",
    "    \n",
    "    # split data into train and test sets\n",
    "    seed = 7\n",
    "    test_size= 0.33\n",
    "    X_train, X_test, y_train, y_test = train_test_split (X, Y, test_size=test_size, random_state= seed)\n",
    "    \n",
    "    # fit model on training data\n",
    "    model = XGBClassifier()\n",
    "    eval_set= [(X_test, y_test)]\n",
    "    model.fit (X_train, y_train, early_stopping_rounds=10, eval_metric=\"logloss\", eval_set=eval_set, verbose=True)\n",
    "    \n",
    "    # make predictions for test data\n",
    "    y_pred = model.predict(X_test)\n",
    "    predictions = [round(value) for value in y_pred]\n",
    "    \n",
    "    # evaluate predictions\n",
    "    accuracy = accuracy_score(y_test, predictions)\n",
    "    print(\"* %s Accuracy: %.2f%%\" % (type_indicators [1], accuracy * 100.0))"
   ]
  },
  {
   "cell_type": "markdown",
   "metadata": {},
   "source": [
    "FEATURE IMPORTANCE PLOT AND LIST FOR THE FIRST INDICATOR:"
   ]
  },
  {
   "cell_type": "code",
   "execution_count": 31,
   "metadata": {},
   "outputs": [
    {
     "data": {
      "image/png": "[encoded data removed]",
      "text/plain": [
       "<Figure size 1500x2000 with 1 Axes>"
      ]
     },
     "metadata": {},
     "output_type": "display_data"
    }
   ],
   "source": [
    "from xgboost import plot_importance\n",
    "\n",
    "#Only the 1st indicator\n",
    "y = list_personality[:,0]\n",
    "\n",
    "# fit model on training data\n",
    "model = XGBClassifier()\n",
    "model.fit(X, y)\n",
    "\n",
    "# plot feature importance\n",
    "ax = plot_importance(model, max_num_features=25)\n",
    "\n",
    "fig = ax.figure\n",
    "fig.set_size_inches (15, 20)\n",
    "\n",
    "plt.show() "
   ]
  },
  {
   "cell_type": "code",
   "execution_count": 32,
   "metadata": {},
   "outputs": [
    {
     "name": "stdout",
     "output_type": "stream",
     "text": [
      "279\t0.006412\tgiven\n",
      "397\t0.005536\tlistening\n",
      "462\t0.005050\tne\n",
      "14\t0.004857\tage\n",
      "432\t0.004262\tmemory\n",
      "292\t0.004242\tguy\n",
      "601\t0.004172\tseriously\n",
      "602\t0.004043\tset\n",
      "72\t0.003908\tblue\n",
      "404\t0.003836\tlol\n",
      "61\t0.003832\tbecome\n",
      "671\t0.003797\tsuper\n",
      "53\t0.003754\tawesome\n",
      "123\t0.003676\tconcept\n",
      "552\t0.003448\tquiet\n",
      "176\t0.003379\tdiscussion\n",
      "536\t0.003342\tpower\n",
      "50\t0.003236\tavoid\n",
      "293\t0.003221\thaha\n",
      "579\t0.003165\tromantic\n",
      "63\t0.003121\tbehavior\n",
      "394\t0.003101\tlink\n",
      "266\t0.003089\tfuck\n",
      "348\t0.003061\tinterest\n",
      "791\t0.003057\tyounger\n"
     ]
    }
   ],
   "source": [
    "features = sorted(list(enumerate(model.feature_importances_)), key=lambda x: x[1], reverse=True)\n",
    "for f in features[0:25]:\n",
    "    print(\"%d\\t%f\\t%s\" % (f[0],f[1],cntizer.get_feature_names_out()[f[0]]))\n",
    "# Save xgb_params for late discussuin\n",
    "default_get_xgb_params = model.get_xgb_params()"
   ]
  },
  {
   "cell_type": "code",
   "execution_count": 33,
   "metadata": {},
   "outputs": [
    {
     "name": "stdout",
     "output_type": "stream",
     "text": [
      "{'objective': 'binary:logistic', 'base_score': None, 'booster': None, 'colsample_bylevel': None, 'colsample_bynode': None, 'colsample_bytree': None, 'device': None, 'eval_metric': None, 'gamma': None, 'grow_policy': None, 'interaction_constraints': None, 'learning_rate': None, 'max_bin': None, 'max_cat_threshold': None, 'max_cat_to_onehot': None, 'max_delta_step': None, 'max_depth': None, 'max_leaves': None, 'min_child_weight': None, 'monotone_constraints': None, 'multi_strategy': None, 'n_jobs': None, 'num_parallel_tree': None, 'random_state': None, 'reg_alpha': None, 'reg_lambda': None, 'sampling_method': None, 'scale_pos_weight': None, 'subsample': None, 'tree_method': None, 'validate_parameters': None, 'verbosity': None}\n"
     ]
    }
   ],
   "source": [
    "#Save xgb_params\n",
    "default_get_xgb_params = model.get_xgb_params()\n",
    "print (default_get_xgb_params)"
   ]
  },
  {
   "cell_type": "code",
   "execution_count": 34,
   "metadata": {},
   "outputs": [],
   "source": [
    "def plot_confusion_matrix(\n",
    "        cm,\n",
    "        classes,\n",
    "        normalize=False,\n",
    "        title=\"Confusion Matrix\",\n",
    "        cmap=plt.cm.Blues):\n",
    "\n",
    "    plt.imshow(cm, interpolation='nearest',cmap=cmap)\n",
    "    plt.title(title)\n",
    "    plt.colorbar()\n",
    "    tick_marks = np.arange(len(classes))\n",
    "    plt.xticks(tick_marks, classes, rotation=45)\n",
    "    plt.yticks(tick_marks, classes)\n",
    "\n",
    "    if normalize:\n",
    "        cm = cm.astype('float') / cm.sum (axis=1) [:, np.newaxis]\n",
    "        print('Normalized confusion matrix')\n",
    "    else:\n",
    "        print('Confusion matrix, without normalization')\n",
    "    \n",
    "    print(cm)\n",
    "\n",
    "    thresh = cm.max() / 2\n",
    "   \n",
    "    for i, j in itertools.product (range (cm.shape [0]),range(cm.shape[1])):\n",
    "        plt.text(j, i, cm[i, j],\n",
    "             horizontalalignment='center',\n",
    "             color='white' if cm[i,j] > thresh else 'black')\n",
    "    plt.tight_layout()\n",
    "    plt.ylabel('True label')\n",
    "    plt.xlabel('Predicted label')\n",
    "    plt.show()"
   ]
  },
  {
   "cell_type": "code",
   "execution_count": 35,
   "metadata": {},
   "outputs": [
    {
     "name": "stdout",
     "output_type": "stream",
     "text": [
      "NS: Intuition (N) - Sensing (s)...\n"
     ]
    },
    {
     "name": "stdout",
     "output_type": "stream",
     "text": [
      "* NS: Intuition (N) - Sensing (s) Accuracy: 78.73%\n",
      "Confusion matrix, without normalization\n",
      "[[2161   68]\n",
      " [ 541   93]]\n"
     ]
    },
    {
     "data": {
      "image/png": "[encoded data removed]",
      "text/plain": [
       "<Figure size 640x480 with 2 Axes>"
      ]
     },
     "metadata": {},
     "output_type": "display_data"
    },
    {
     "name": "stdout",
     "output_type": "stream",
     "text": [
      "NS: Intuition (N) - Sensing (s)...\n",
      "* NS: Intuition (N) - Sensing (s) Accuracy: 86.06%\n",
      "Confusion matrix, without normalization\n",
      "[[2454    9]\n",
      " [ 390   10]]\n"
     ]
    },
    {
     "data": {
      "image/png": "[encoded data removed]",
      "text/plain": [
       "<Figure size 640x480 with 2 Axes>"
      ]
     },
     "metadata": {},
     "output_type": "display_data"
    },
    {
     "name": "stdout",
     "output_type": "stream",
     "text": [
      "NS: Intuition (N) - Sensing (s)...\n",
      "* NS: Intuition (N) - Sensing (s) Accuracy: 73.38%\n",
      "Confusion matrix, without normalization\n",
      "[[1186  368]\n",
      " [ 394  915]]\n"
     ]
    },
    {
     "data": {
      "image/png": "[encoded data removed]",
      "text/plain": [
       "<Figure size 640x480 with 2 Axes>"
      ]
     },
     "metadata": {},
     "output_type": "display_data"
    },
    {
     "name": "stdout",
     "output_type": "stream",
     "text": [
      "NS: Intuition (N) - Sensing (s)...\n",
      "* NS: Intuition (N) - Sensing (s) Accuracy: 65.70%\n",
      "Confusion matrix, without normalization\n",
      "[[ 450  669]\n",
      " [ 313 1431]]\n"
     ]
    },
    {
     "data": {
      "image/png": "[encoded data removed]",
      "text/plain": [
       "<Figure size 640x480 with 2 Axes>"
      ]
     },
     "metadata": {},
     "output_type": "display_data"
    }
   ],
   "source": [
    "from sklearn.metrics import confusion_matrix\n",
    "import itertools \n",
    "import re\n",
    "\n",
    "# setup parameters for xgboost\n",
    "param = {}\n",
    "\n",
    "param['n_estimators'] = 200\n",
    "param[ 'max_depth'] = 2\n",
    "param['nthread'] = 8\n",
    "param['learning_rate'] = 0.2\n",
    "\n",
    "# Let's train type indicator individually\n",
    "for l in range(len(type_indicators)):\n",
    "    print(\"%s...\" % (type_indicators[1]))\n",
    "    \n",
    "    Y = list_personality[:,l]\n",
    "    \n",
    "    # split data into train and test sets\n",
    "    seed = 7\n",
    "    test_size = 0.33\n",
    "    X_train,X_test, y_train, y_test= train_test_split(X, Y, test_size=test_size, random_state=seed)\n",
    "    \n",
    "    #fit model on training data\n",
    "    model=XGBClassifier (**param)\n",
    "    model.fit(X_train,y_train)\n",
    "    # make predictions for test data\n",
    "    y_pred = model.predict (X_test)\n",
    "    predictions = [round(value) for value in y_pred]\n",
    "    # evaluate predictions\n",
    "    accuracy = accuracy_score(y_test, predictions)\n",
    "    print(\"* %s Accuracy: %.2f%%\" % (type_indicators [1], accuracy * 100.0))\n",
    "    \n",
    "    #confusion matrix\n",
    "    cm = confusion_matrix(y_test, predictions)\n",
    "    cm_class = re.split('/ | - |: | - ', type_indicators[l])\n",
    "    plot_confusion_matrix(cm, [cm_class [1], cm_class [2]], title=\"Confusion Matrix\")"
   ]
  },
  {
   "cell_type": "markdown",
   "metadata": {},
   "source": [
    "XGBOOST HYPERPARAMETER TUNING"
   ]
  },
  {
   "cell_type": "code",
   "execution_count": 36,
   "metadata": {},
   "outputs": [],
   "source": [
    "#Tune learning_rate\n",
    "from numpy import loadtxt\n",
    "from xgboost import XGBClassifier\n",
    "from sklearn.model_selection import GridSearchCV\n",
    "from sklearn.model_selection import StratifiedKFold"
   ]
  },
  {
   "cell_type": "code",
   "execution_count": 37,
   "metadata": {},
   "outputs": [],
   "source": [
    "# Posts in tf-idf representation\n",
    "X = x_tfidf"
   ]
  },
  {
   "cell_type": "code",
   "execution_count": 38,
   "metadata": {},
   "outputs": [],
   "source": [
    "# setup parameters for xgboost\n",
    "param= {}\n",
    "param['n_estimators'] = 200\n",
    "param['max_depth'] = 2 \n",
    "param['nthread'] = 8\n",
    "param['learning_rate'] = 0.2"
   ]
  },
  {
   "cell_type": "code",
   "execution_count": 39,
   "metadata": {},
   "outputs": [
    {
     "name": "stdout",
     "output_type": "stream",
     "text": [
      "IE: Introversion (I) / Extroversion (E)...\n",
      "hello\n",
      "NS: Intuition (N) - Sensing (s)...\n",
      "hello\n",
      "FT: Feeling (F) - Thinking (T)...\n",
      "hello\n",
      "JP: Judging (J) - Perceiving (P)...\n",
      "hello\n"
     ]
    }
   ],
   "source": [
    "# Let's train type indicator individually\n",
    "for l in range (len(type_indicators)):\n",
    "    print(\"%s...\" % (type_indicators[l]))\n",
    "\n",
    "    Y = list_personality[:,1]\n",
    "    model = XGBClassifier(**param)\n",
    "    #learning_rate= [0.0001, 0.001, 0.01, 0.1, 0.2, 0.3]\n",
    "    #param_grid = dict(learning_rate=learning_rate)\n",
    "    \n",
    "    print(\"hello\")"
   ]
  },
  {
   "cell_type": "code",
   "execution_count": 40,
   "metadata": {},
   "outputs": [],
   "source": [
    " param_grid = {\n",
    "        'n_estimators' :[ 200 ,3001],\n",
    "        'learning_rate': [ 0.2, 0.3]\n",
    "        # 'learning_rate': [ 0.01, 0.1, 0.2, 0.3],\n",
    "        # 'max_depth': [2,3,4],\n",
    "     }"
   ]
  },
  {
   "cell_type": "code",
   "execution_count": 41,
   "metadata": {},
   "outputs": [],
   "source": [
    "kfold = StratifiedKFold(n_splits=10, shuffle=True, random_state=7)\n",
    "grid_search= GridSearchCV(model,param_grid, scoring=\"neg_log_loss\", n_jobs=-1, cv=kfold)\n",
    "grid_result = grid_search.fit(X, Y)"
   ]
  },
  {
   "cell_type": "code",
   "execution_count": 42,
   "metadata": {},
   "outputs": [
    {
     "name": "stdout",
     "output_type": "stream",
     "text": [
      "* Best: -0.369986 using {'learning_rate': 0.2, 'n_estimators': 200}\n"
     ]
    }
   ],
   "source": [
    "# summarize results\n",
    "print(\"* Best: %f using %s\" % (grid_result.best_score_, grid_result.best_params_))\n",
    "means = grid_result.cv_results_['mean_test_score']\n",
    "stds = grid_result.cv_results_['std_test_score']\n",
    "params=grid_result.cv_results_['params']"
   ]
  },
  {
   "cell_type": "code",
   "execution_count": 43,
   "metadata": {},
   "outputs": [
    {
     "name": "stdout",
     "output_type": "stream",
     "text": [
      "* -0.369986 (0.008972) with: {'learning_rate': 0.2, 'n_estimators': 200}\n",
      "* -0.540662 (0.016169) with: {'learning_rate': 0.2, 'n_estimators': 3001}\n",
      "* -0.376050 (0.009750) with: {'learning_rate': 0.3, 'n_estimators': 200}\n",
      "* -0.648721 (0.027126) with: {'learning_rate': 0.3, 'n_estimators': 3001}\n"
     ]
    }
   ],
   "source": [
    "for mean, stdev, param in zip (means, stds, params):\n",
    "        print(\"* %f (%f) with: %r\" % (mean, stdev, param))"
   ]
  },
  {
   "cell_type": "markdown",
   "metadata": {},
   "source": [
    "PREDICT OWN MYERS-BRIGGS PERSONALITY TYPE"
   ]
  },
  {
   "cell_type": "code",
   "execution_count": 45,
   "metadata": {},
   "outputs": [
    {
     "name": "stdout",
     "output_type": "stream",
     "text": [
      "1 of 1 rows\n"
     ]
    }
   ],
   "source": [
    "# A few few tweets and blog post\n",
    "my_posts = \"\"\"Getting started with data science and applying machine learning has never been as simple as it is now. There are many free and paid online tutorials and courses out the\n",
    "Awesome #AWS monitoring introduction.\n",
    "HPE Software (now @MicroFocusSW) won the platinum reader's choice #ITAWARDS 2017 in the new category #CloudMonitoring\n",
    "Certified as AWS Certified Solutions Architect\n",
    "Hi, please have a look at my Udacity interview about online learning and machine learning,\n",
    "Very interesting to see the lessons learnt during the HP Operations Orchestration to Cloudslang journey. http://bit.ly/1X041ci\n",
    "I came across a post on devopsdigest.com and need your input: \"70% DevOps organizations Unhappy with DevOps Monitoring Tools\"\n",
    "In a similar investigation I found out that many DevOps organizations use several monitoring tools in parallel. Senu, Nagios, Logstach and Saas offerings such as DataDog or SignalFX t\n",
    "Sure, there are comercial tools on the market for exactly this use case but these tools are not necessarily optimized for DevOps.\n",
    "So, here my question to you: In your DevOps project, have you encountered that the lack of consolidation of alerts and status is a real issue? If yes, how did you approach the problem\n",
    "You will probably hear more and more about Chatops at conferences, DevOps meet-ups or simply from your co-worker at the coffee station. Chatops is a term and concept coined by GitHu\n",
    "Now the question is: why and how would I, as an ops-focused engineer, implement and use Chatops in my organization? The next question then is: How to include my tools into the chat cc\n",
    "Let's begin by having a look at a use case. The Closed Looped Incidents Process (CLIP) can be rejuvenated with Chatops. The work from the incident detection runs through monitoring ur\n",
    "In this blog post, I am going to describe and share my experience with deploying HP Operations Manager i 10.0 (OMi) on HP Helion Public Cloud. An Infrastructure as a Service platform\"\"\"\n",
    "\n",
    "# The type is just a dummy so that the data prep fucntion can be reused\n",
    "mydata = pd.DataFrame (data= { 'type': ['INFJ'], 'posts': [my_posts]})\n",
    "my_posts, dummy = pre_process_Personality(mydata, remove_stop_words=True)\n",
    "my_X_cnt = cntizer.transform(my_posts)\n",
    "my_X_tfidf = tfizer.transform (my_X_cnt).toarray()"
   ]
  },
  {
   "cell_type": "markdown",
   "metadata": {},
   "source": [
    "FIT AND PREDICT THE 4 TYPE INDICATORS:"
   ]
  },
  {
   "cell_type": "code",
   "execution_count": 47,
   "metadata": {},
   "outputs": [
    {
     "name": "stdout",
     "output_type": "stream",
     "text": [
      "IE: Introversion (I) / Extroversion (E)...\n",
      "NS: Intuition (N) - Sensing (s)...\n",
      "FT: Feeling (F) - Thinking (T)...\n",
      "JP: Judging (J) - Perceiving (P)...\n"
     ]
    }
   ],
   "source": [
    "# setup parameters for xgboost\n",
    "param= {}\n",
    "param['n_estimators'] = 200\n",
    "param['max_depth'] = 2\n",
    "param['nthread'] = 8\n",
    "param[ 'learning_rate'] = 0.2\n",
    "\n",
    "result = []\n",
    "# Let's train type indicator individually\n",
    "for l in range (len (type_indicators)):\n",
    "    print(\"%s...\" % (type_indicators[l]))\n",
    "    \n",
    "    Y = list_personality[:,l]\n",
    "    \n",
    "    # split data into train and test sets.\n",
    "    seed = 7\n",
    "    test_size= 0.33\n",
    "    X_train, X_test, y_train, y_test = train_test_split(X, Y, test_size=test_size, random_state=seed)\n",
    "    \n",
    "    # fit model on training data I\n",
    "    model=XGBClassifier (**param)\n",
    "    model.fit(X_train, y_train)\n",
    "    \n",
    "    # make predictions for my data\n",
    "    y_pred = model.predict(my_X_tfidf)\n",
    "    result.append(y_pred[0])\n",
    "    # print(\"* %s prediction: %s\" % (type_indicators [1], y_pred))"
   ]
  },
  {
   "cell_type": "markdown",
   "metadata": {},
   "source": [
    "RESULT"
   ]
  },
  {
   "cell_type": "code",
   "execution_count": 48,
   "metadata": {},
   "outputs": [
    {
     "name": "stdout",
     "output_type": "stream",
     "text": [
      "The result is: INTJ\n"
     ]
    }
   ],
   "source": [
    "print(\"The result is:\",translate_back(result))"
   ]
  }
 ],
 "metadata": {
  "kernelspec": {
   "display_name": "Python 3 (ipykernel)",
   "language": "python",
   "name": "python3"
  },
  "language_info": {
   "codemirror_mode": {
    "name": "ipython",
    "version": 3
   },
   "file_extension": ".py",
   "mimetype": "text/x-python",
   "name": "python",
   "nbconvert_exporter": "python",
   "pygments_lexer": "ipython3",
   "version": "3.10.7"
  }
 },
 "nbformat": 4,
 "nbformat_minor": 2
}
